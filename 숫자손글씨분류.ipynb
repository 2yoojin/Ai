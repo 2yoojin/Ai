{
  "nbformat": 4,
  "nbformat_minor": 0,
  "metadata": {
    "colab": {
      "provenance": [],
      "authorship_tag": "ABX9TyOA1Ic2N8nUuKU/+//y+nfN",
      "include_colab_link": true
    },
    "kernelspec": {
      "name": "python3",
      "display_name": "Python 3"
    },
    "language_info": {
      "name": "python"
    }
  },
  "cells": [
    {
      "cell_type": "markdown",
      "metadata": {
        "id": "view-in-github",
        "colab_type": "text"
      },
      "source": [
        "<a href=\"https://colab.research.google.com/github/2yoojin/Ai/blob/main/%EC%88%AB%EC%9E%90%EC%86%90%EA%B8%80%EC%94%A8%EB%B6%84%EB%A5%98.ipynb\" target=\"_parent\"><img src=\"https://colab.research.google.com/assets/colab-badge.svg\" alt=\"Open In Colab\"/></a>"
      ]
    },
    {
      "cell_type": "markdown",
      "source": [
        "# **숫자 손글씨 분류 ✍**"
      ],
      "metadata": {
        "id": "1n9Ft4eDGNHI"
      }
    },
    {
      "cell_type": "code",
      "execution_count": null,
      "metadata": {
        "colab": {
          "base_uri": "https://localhost:8080/"
        },
        "id": "PCUkqJJxF822",
        "outputId": "0aff8253-94a2-492c-a778-5e41aad81286"
      },
      "outputs": [
        {
          "output_type": "stream",
          "name": "stdout",
          "text": [
            "Mounted at /content/drive\n"
          ]
        }
      ],
      "source": [
        "from google.colab import drive\n",
        "drive.mount('/content/drive')"
      ]
    },
    {
      "cell_type": "code",
      "source": [
        "from IPython.core.interactiveshell import InteractiveShell\n",
        "InteractiveShell.ast_node_interactivity = 'all'"
      ],
      "metadata": {
        "id": "Rn1MIOVvGBR5"
      },
      "execution_count": null,
      "outputs": []
    },
    {
      "cell_type": "markdown",
      "source": [
        "# **1. Data/library Import**"
      ],
      "metadata": {
        "id": "fUV0mPgYGEJz"
      }
    },
    {
      "cell_type": "code",
      "source": [
        "# 데이터 불러오기 라이브러리\n",
        "import pandas as pd\n",
        "import numpy as np\n",
        "import random as rnd\n",
        "\n",
        "# 시각화 라이브러리\n",
        "import seaborn as sns\n",
        "import matplotlib.pyplot as plt\n",
        "%matplotlib inline\n",
        "import missingno as msno\n",
        "from scipy.stats import norm\n",
        "from scipy import stats\n",
        "import io\n",
        "import warnings\n",
        "warnings.filterwarnings(action='ignore')\n",
        "\n",
        "# keras 를 활용한 모델 개발\n",
        "from tensorflow import keras"
      ],
      "metadata": {
        "id": "aeLV2EQmGEja"
      },
      "execution_count": null,
      "outputs": []
    },
    {
      "cell_type": "code",
      "source": [
        "import os\n",
        "if os.name == 'posix':\n",
        "    plt.rc(\"font\", family=\"AppleGothic\")\n",
        "\n",
        "else:\n",
        "    plt.rc(\"font\", family=\"Malgun Gothic\")\n",
        "from matplotlib import font_manager, rc\n",
        "rc(\"font\", family=\"Malgun Gothic\", size=18, weight='light')"
      ],
      "metadata": {
        "id": "xjq3SEozGEoS"
      },
      "execution_count": null,
      "outputs": []
    },
    {
      "cell_type": "code",
      "source": [
        "train = pd.read_csv('/content/drive/MyDrive/train(7).csv') # 모델 학습 데이터\n",
        "test = pd.read_csv('/content/drive/MyDrive/test(7).csv') # 모델 테스트 데이터\n",
        "submission = pd.read_csv('/content/drive/MyDrive/submission(7).csv')"
      ],
      "metadata": {
        "id": "08RK_rAoGEqV"
      },
      "execution_count": null,
      "outputs": []
    },
    {
      "cell_type": "code",
      "source": [
        "train.shape, test.shape, submission.shape"
      ],
      "metadata": {
        "colab": {
          "base_uri": "https://localhost:8080/"
        },
        "id": "9kSb8sXNGEs0",
        "outputId": "a773a3e2-00b7-4ec4-c54e-c6fb7a41dd6c"
      },
      "execution_count": null,
      "outputs": [
        {
          "output_type": "execute_result",
          "data": {
            "text/plain": [
              "((60000, 786), (10000, 785), (10000, 2))"
            ]
          },
          "metadata": {},
          "execution_count": 5
        }
      ]
    },
    {
      "cell_type": "markdown",
      "source": [
        "# **2. EDA**\n",
        "\n",
        "\n",
        "*   훈련세트 준비\n",
        "*   DataFrame을 numpy 배열 형식으로 변환 (to_numpy() 활용)\n",
        "*   **픽셀 최대값인 255로 나누어서 전처리**\n",
        "\n",
        "\n"
      ],
      "metadata": {
        "id": "JvSvWMe_Uhvj"
      }
    },
    {
      "cell_type": "markdown",
      "source": [
        "# **2.0 train data**"
      ],
      "metadata": {
        "id": "Ui-HVBMaG0Gu"
      }
    },
    {
      "cell_type": "code",
      "source": [
        "train.isnull().sum()"
      ],
      "metadata": {
        "colab": {
          "base_uri": "https://localhost:8080/"
        },
        "id": "_jt_8tCcUj-D",
        "outputId": "00cf62fb-5fea-42df-967b-deba3418c975"
      },
      "execution_count": null,
      "outputs": [
        {
          "output_type": "execute_result",
          "data": {
            "text/plain": [
              "index    0\n",
              "label    0\n",
              "px1      0\n",
              "px2      0\n",
              "px3      0\n",
              "        ..\n",
              "px780    0\n",
              "px781    0\n",
              "px782    0\n",
              "px783    0\n",
              "px784    0\n",
              "Length: 786, dtype: int64"
            ]
          },
          "metadata": {},
          "execution_count": 45
        }
      ]
    },
    {
      "cell_type": "code",
      "source": [
        "# 결측치 존재한다면 앞의 데이터로 채우기\n",
        "\n",
        "train.fillna(method='ffill', inplace=True) "
      ],
      "metadata": {
        "id": "D7QvEovWUkAt"
      },
      "execution_count": null,
      "outputs": []
    },
    {
      "cell_type": "code",
      "source": [
        "train.isnull().sum()\n",
        "test.fillna(method='ffill', inplace=True)"
      ],
      "metadata": {
        "colab": {
          "base_uri": "https://localhost:8080/"
        },
        "id": "8RrtUkIpUkFe",
        "outputId": "92e1c04e-7b2c-4d62-8eee-8dc1c335007d"
      },
      "execution_count": null,
      "outputs": [
        {
          "output_type": "execute_result",
          "data": {
            "text/plain": [
              "index    0\n",
              "label    0\n",
              "px1      0\n",
              "px2      0\n",
              "px3      0\n",
              "        ..\n",
              "px780    0\n",
              "px781    0\n",
              "px782    0\n",
              "px783    0\n",
              "px784    0\n",
              "Length: 786, dtype: int64"
            ]
          },
          "metadata": {},
          "execution_count": 47
        }
      ]
    },
    {
      "cell_type": "code",
      "source": [
        "train.head(10)"
      ],
      "metadata": {
        "colab": {
          "base_uri": "https://localhost:8080/"
        },
        "id": "o4qBDd48Uj7h",
        "outputId": "57d2569a-fc09-46f1-f5ec-fc0f831ee954"
      },
      "execution_count": null,
      "outputs": [
        {
          "output_type": "execute_result",
          "data": {
            "text/plain": [
              "   index  label  px1  px2  px3  px4  px5  px6  px7  px8  ...  px775  px776  \\\n",
              "0      0      5    0    0    0    0    0    0    0    0  ...      0      0   \n",
              "1      1      0    0    0    0    0    0    0    0    0  ...      0      0   \n",
              "2      2      4    0    0    0    0    0    0    0    0  ...      0      0   \n",
              "3      3      1    0    0    0    0    0    0    0    0  ...      0      0   \n",
              "4      4      9    0    0    0    0    0    0    0    0  ...      0      0   \n",
              "5      5      2    0    0    0    0    0    0    0    0  ...      0      0   \n",
              "6      6      1    0    0    0    0    0    0    0    0  ...      0      0   \n",
              "7      7      3    0    0    0    0    0    0    0    0  ...      0      0   \n",
              "8      8      1    0    0    0    0    0    0    0    0  ...      0      0   \n",
              "9      9      4    0    0    0    0    0    0    0    0  ...      0      0   \n",
              "\n",
              "   px777  px778  px779  px780  px781  px782  px783  px784  \n",
              "0      0      0      0      0      0      0      0      0  \n",
              "1      0      0      0      0      0      0      0      0  \n",
              "2      0      0      0      0      0      0      0      0  \n",
              "3      0      0      0      0      0      0      0      0  \n",
              "4      0      0      0      0      0      0      0      0  \n",
              "5      0      0      0      0      0      0      0      0  \n",
              "6      0      0      0      0      0      0      0      0  \n",
              "7      0      0      0      0      0      0      0      0  \n",
              "8      0      0      0      0      0      0      0      0  \n",
              "9      0      0      0      0      0      0      0      0  \n",
              "\n",
              "[10 rows x 786 columns]"
            ],
            "text/html": [
              "\n",
              "  <div id=\"df-faaaa6cc-c512-402b-9331-4080185da8e0\">\n",
              "    <div class=\"colab-df-container\">\n",
              "      <div>\n",
              "<style scoped>\n",
              "    .dataframe tbody tr th:only-of-type {\n",
              "        vertical-align: middle;\n",
              "    }\n",
              "\n",
              "    .dataframe tbody tr th {\n",
              "        vertical-align: top;\n",
              "    }\n",
              "\n",
              "    .dataframe thead th {\n",
              "        text-align: right;\n",
              "    }\n",
              "</style>\n",
              "<table border=\"1\" class=\"dataframe\">\n",
              "  <thead>\n",
              "    <tr style=\"text-align: right;\">\n",
              "      <th></th>\n",
              "      <th>index</th>\n",
              "      <th>label</th>\n",
              "      <th>px1</th>\n",
              "      <th>px2</th>\n",
              "      <th>px3</th>\n",
              "      <th>px4</th>\n",
              "      <th>px5</th>\n",
              "      <th>px6</th>\n",
              "      <th>px7</th>\n",
              "      <th>px8</th>\n",
              "      <th>...</th>\n",
              "      <th>px775</th>\n",
              "      <th>px776</th>\n",
              "      <th>px777</th>\n",
              "      <th>px778</th>\n",
              "      <th>px779</th>\n",
              "      <th>px780</th>\n",
              "      <th>px781</th>\n",
              "      <th>px782</th>\n",
              "      <th>px783</th>\n",
              "      <th>px784</th>\n",
              "    </tr>\n",
              "  </thead>\n",
              "  <tbody>\n",
              "    <tr>\n",
              "      <th>0</th>\n",
              "      <td>0</td>\n",
              "      <td>5</td>\n",
              "      <td>0</td>\n",
              "      <td>0</td>\n",
              "      <td>0</td>\n",
              "      <td>0</td>\n",
              "      <td>0</td>\n",
              "      <td>0</td>\n",
              "      <td>0</td>\n",
              "      <td>0</td>\n",
              "      <td>...</td>\n",
              "      <td>0</td>\n",
              "      <td>0</td>\n",
              "      <td>0</td>\n",
              "      <td>0</td>\n",
              "      <td>0</td>\n",
              "      <td>0</td>\n",
              "      <td>0</td>\n",
              "      <td>0</td>\n",
              "      <td>0</td>\n",
              "      <td>0</td>\n",
              "    </tr>\n",
              "    <tr>\n",
              "      <th>1</th>\n",
              "      <td>1</td>\n",
              "      <td>0</td>\n",
              "      <td>0</td>\n",
              "      <td>0</td>\n",
              "      <td>0</td>\n",
              "      <td>0</td>\n",
              "      <td>0</td>\n",
              "      <td>0</td>\n",
              "      <td>0</td>\n",
              "      <td>0</td>\n",
              "      <td>...</td>\n",
              "      <td>0</td>\n",
              "      <td>0</td>\n",
              "      <td>0</td>\n",
              "      <td>0</td>\n",
              "      <td>0</td>\n",
              "      <td>0</td>\n",
              "      <td>0</td>\n",
              "      <td>0</td>\n",
              "      <td>0</td>\n",
              "      <td>0</td>\n",
              "    </tr>\n",
              "    <tr>\n",
              "      <th>2</th>\n",
              "      <td>2</td>\n",
              "      <td>4</td>\n",
              "      <td>0</td>\n",
              "      <td>0</td>\n",
              "      <td>0</td>\n",
              "      <td>0</td>\n",
              "      <td>0</td>\n",
              "      <td>0</td>\n",
              "      <td>0</td>\n",
              "      <td>0</td>\n",
              "      <td>...</td>\n",
              "      <td>0</td>\n",
              "      <td>0</td>\n",
              "      <td>0</td>\n",
              "      <td>0</td>\n",
              "      <td>0</td>\n",
              "      <td>0</td>\n",
              "      <td>0</td>\n",
              "      <td>0</td>\n",
              "      <td>0</td>\n",
              "      <td>0</td>\n",
              "    </tr>\n",
              "    <tr>\n",
              "      <th>3</th>\n",
              "      <td>3</td>\n",
              "      <td>1</td>\n",
              "      <td>0</td>\n",
              "      <td>0</td>\n",
              "      <td>0</td>\n",
              "      <td>0</td>\n",
              "      <td>0</td>\n",
              "      <td>0</td>\n",
              "      <td>0</td>\n",
              "      <td>0</td>\n",
              "      <td>...</td>\n",
              "      <td>0</td>\n",
              "      <td>0</td>\n",
              "      <td>0</td>\n",
              "      <td>0</td>\n",
              "      <td>0</td>\n",
              "      <td>0</td>\n",
              "      <td>0</td>\n",
              "      <td>0</td>\n",
              "      <td>0</td>\n",
              "      <td>0</td>\n",
              "    </tr>\n",
              "    <tr>\n",
              "      <th>4</th>\n",
              "      <td>4</td>\n",
              "      <td>9</td>\n",
              "      <td>0</td>\n",
              "      <td>0</td>\n",
              "      <td>0</td>\n",
              "      <td>0</td>\n",
              "      <td>0</td>\n",
              "      <td>0</td>\n",
              "      <td>0</td>\n",
              "      <td>0</td>\n",
              "      <td>...</td>\n",
              "      <td>0</td>\n",
              "      <td>0</td>\n",
              "      <td>0</td>\n",
              "      <td>0</td>\n",
              "      <td>0</td>\n",
              "      <td>0</td>\n",
              "      <td>0</td>\n",
              "      <td>0</td>\n",
              "      <td>0</td>\n",
              "      <td>0</td>\n",
              "    </tr>\n",
              "    <tr>\n",
              "      <th>5</th>\n",
              "      <td>5</td>\n",
              "      <td>2</td>\n",
              "      <td>0</td>\n",
              "      <td>0</td>\n",
              "      <td>0</td>\n",
              "      <td>0</td>\n",
              "      <td>0</td>\n",
              "      <td>0</td>\n",
              "      <td>0</td>\n",
              "      <td>0</td>\n",
              "      <td>...</td>\n",
              "      <td>0</td>\n",
              "      <td>0</td>\n",
              "      <td>0</td>\n",
              "      <td>0</td>\n",
              "      <td>0</td>\n",
              "      <td>0</td>\n",
              "      <td>0</td>\n",
              "      <td>0</td>\n",
              "      <td>0</td>\n",
              "      <td>0</td>\n",
              "    </tr>\n",
              "    <tr>\n",
              "      <th>6</th>\n",
              "      <td>6</td>\n",
              "      <td>1</td>\n",
              "      <td>0</td>\n",
              "      <td>0</td>\n",
              "      <td>0</td>\n",
              "      <td>0</td>\n",
              "      <td>0</td>\n",
              "      <td>0</td>\n",
              "      <td>0</td>\n",
              "      <td>0</td>\n",
              "      <td>...</td>\n",
              "      <td>0</td>\n",
              "      <td>0</td>\n",
              "      <td>0</td>\n",
              "      <td>0</td>\n",
              "      <td>0</td>\n",
              "      <td>0</td>\n",
              "      <td>0</td>\n",
              "      <td>0</td>\n",
              "      <td>0</td>\n",
              "      <td>0</td>\n",
              "    </tr>\n",
              "    <tr>\n",
              "      <th>7</th>\n",
              "      <td>7</td>\n",
              "      <td>3</td>\n",
              "      <td>0</td>\n",
              "      <td>0</td>\n",
              "      <td>0</td>\n",
              "      <td>0</td>\n",
              "      <td>0</td>\n",
              "      <td>0</td>\n",
              "      <td>0</td>\n",
              "      <td>0</td>\n",
              "      <td>...</td>\n",
              "      <td>0</td>\n",
              "      <td>0</td>\n",
              "      <td>0</td>\n",
              "      <td>0</td>\n",
              "      <td>0</td>\n",
              "      <td>0</td>\n",
              "      <td>0</td>\n",
              "      <td>0</td>\n",
              "      <td>0</td>\n",
              "      <td>0</td>\n",
              "    </tr>\n",
              "    <tr>\n",
              "      <th>8</th>\n",
              "      <td>8</td>\n",
              "      <td>1</td>\n",
              "      <td>0</td>\n",
              "      <td>0</td>\n",
              "      <td>0</td>\n",
              "      <td>0</td>\n",
              "      <td>0</td>\n",
              "      <td>0</td>\n",
              "      <td>0</td>\n",
              "      <td>0</td>\n",
              "      <td>...</td>\n",
              "      <td>0</td>\n",
              "      <td>0</td>\n",
              "      <td>0</td>\n",
              "      <td>0</td>\n",
              "      <td>0</td>\n",
              "      <td>0</td>\n",
              "      <td>0</td>\n",
              "      <td>0</td>\n",
              "      <td>0</td>\n",
              "      <td>0</td>\n",
              "    </tr>\n",
              "    <tr>\n",
              "      <th>9</th>\n",
              "      <td>9</td>\n",
              "      <td>4</td>\n",
              "      <td>0</td>\n",
              "      <td>0</td>\n",
              "      <td>0</td>\n",
              "      <td>0</td>\n",
              "      <td>0</td>\n",
              "      <td>0</td>\n",
              "      <td>0</td>\n",
              "      <td>0</td>\n",
              "      <td>...</td>\n",
              "      <td>0</td>\n",
              "      <td>0</td>\n",
              "      <td>0</td>\n",
              "      <td>0</td>\n",
              "      <td>0</td>\n",
              "      <td>0</td>\n",
              "      <td>0</td>\n",
              "      <td>0</td>\n",
              "      <td>0</td>\n",
              "      <td>0</td>\n",
              "    </tr>\n",
              "  </tbody>\n",
              "</table>\n",
              "<p>10 rows × 786 columns</p>\n",
              "</div>\n",
              "      <button class=\"colab-df-convert\" onclick=\"convertToInteractive('df-faaaa6cc-c512-402b-9331-4080185da8e0')\"\n",
              "              title=\"Convert this dataframe to an interactive table.\"\n",
              "              style=\"display:none;\">\n",
              "        \n",
              "  <svg xmlns=\"http://www.w3.org/2000/svg\" height=\"24px\"viewBox=\"0 0 24 24\"\n",
              "       width=\"24px\">\n",
              "    <path d=\"M0 0h24v24H0V0z\" fill=\"none\"/>\n",
              "    <path d=\"M18.56 5.44l.94 2.06.94-2.06 2.06-.94-2.06-.94-.94-2.06-.94 2.06-2.06.94zm-11 1L8.5 8.5l.94-2.06 2.06-.94-2.06-.94L8.5 2.5l-.94 2.06-2.06.94zm10 10l.94 2.06.94-2.06 2.06-.94-2.06-.94-.94-2.06-.94 2.06-2.06.94z\"/><path d=\"M17.41 7.96l-1.37-1.37c-.4-.4-.92-.59-1.43-.59-.52 0-1.04.2-1.43.59L10.3 9.45l-7.72 7.72c-.78.78-.78 2.05 0 2.83L4 21.41c.39.39.9.59 1.41.59.51 0 1.02-.2 1.41-.59l7.78-7.78 2.81-2.81c.8-.78.8-2.07 0-2.86zM5.41 20L4 18.59l7.72-7.72 1.47 1.35L5.41 20z\"/>\n",
              "  </svg>\n",
              "      </button>\n",
              "      \n",
              "  <style>\n",
              "    .colab-df-container {\n",
              "      display:flex;\n",
              "      flex-wrap:wrap;\n",
              "      gap: 12px;\n",
              "    }\n",
              "\n",
              "    .colab-df-convert {\n",
              "      background-color: #E8F0FE;\n",
              "      border: none;\n",
              "      border-radius: 50%;\n",
              "      cursor: pointer;\n",
              "      display: none;\n",
              "      fill: #1967D2;\n",
              "      height: 32px;\n",
              "      padding: 0 0 0 0;\n",
              "      width: 32px;\n",
              "    }\n",
              "\n",
              "    .colab-df-convert:hover {\n",
              "      background-color: #E2EBFA;\n",
              "      box-shadow: 0px 1px 2px rgba(60, 64, 67, 0.3), 0px 1px 3px 1px rgba(60, 64, 67, 0.15);\n",
              "      fill: #174EA6;\n",
              "    }\n",
              "\n",
              "    [theme=dark] .colab-df-convert {\n",
              "      background-color: #3B4455;\n",
              "      fill: #D2E3FC;\n",
              "    }\n",
              "\n",
              "    [theme=dark] .colab-df-convert:hover {\n",
              "      background-color: #434B5C;\n",
              "      box-shadow: 0px 1px 3px 1px rgba(0, 0, 0, 0.15);\n",
              "      filter: drop-shadow(0px 1px 2px rgba(0, 0, 0, 0.3));\n",
              "      fill: #FFFFFF;\n",
              "    }\n",
              "  </style>\n",
              "\n",
              "      <script>\n",
              "        const buttonEl =\n",
              "          document.querySelector('#df-faaaa6cc-c512-402b-9331-4080185da8e0 button.colab-df-convert');\n",
              "        buttonEl.style.display =\n",
              "          google.colab.kernel.accessAllowed ? 'block' : 'none';\n",
              "\n",
              "        async function convertToInteractive(key) {\n",
              "          const element = document.querySelector('#df-faaaa6cc-c512-402b-9331-4080185da8e0');\n",
              "          const dataTable =\n",
              "            await google.colab.kernel.invokeFunction('convertToInteractive',\n",
              "                                                     [key], {});\n",
              "          if (!dataTable) return;\n",
              "\n",
              "          const docLinkHtml = 'Like what you see? Visit the ' +\n",
              "            '<a target=\"_blank\" href=https://colab.research.google.com/notebooks/data_table.ipynb>data table notebook</a>'\n",
              "            + ' to learn more about interactive tables.';\n",
              "          element.innerHTML = '';\n",
              "          dataTable['output_type'] = 'display_data';\n",
              "          await google.colab.output.renderOutput(dataTable, element);\n",
              "          const docLink = document.createElement('div');\n",
              "          docLink.innerHTML = docLinkHtml;\n",
              "          element.appendChild(docLink);\n",
              "        }\n",
              "      </script>\n",
              "    </div>\n",
              "  </div>\n",
              "  "
            ]
          },
          "metadata": {},
          "execution_count": 48
        }
      ]
    },
    {
      "cell_type": "code",
      "source": [
        "# train_data 생성: index, label drop\n",
        "\n",
        "train_data = train.drop(train.columns[[0,1]],axis=1)\n",
        "train_data = train_data.to_numpy() \n",
        "train_data"
      ],
      "metadata": {
        "colab": {
          "base_uri": "https://localhost:8080/"
        },
        "id": "asJG8g8sLjRy",
        "outputId": "058deda5-478f-45da-efaa-ebd2ccb9c46e"
      },
      "execution_count": null,
      "outputs": [
        {
          "output_type": "execute_result",
          "data": {
            "text/plain": [
              "array([[0, 0, 0, ..., 0, 0, 0],\n",
              "       [0, 0, 0, ..., 0, 0, 0],\n",
              "       [0, 0, 0, ..., 0, 0, 0],\n",
              "       ...,\n",
              "       [0, 0, 0, ..., 0, 0, 0],\n",
              "       [0, 0, 0, ..., 0, 0, 0],\n",
              "       [0, 0, 0, ..., 0, 0, 0]])"
            ]
          },
          "metadata": {},
          "execution_count": 49
        }
      ]
    },
    {
      "cell_type": "code",
      "source": [
        "train_x = train_data / 255 # 픽셀 최대값으로 나누어 0~1 사이 범위 갖도록 변경\n",
        "train_x\n",
        "print(\"\\n\\n\")\n",
        "train_x.shape"
      ],
      "metadata": {
        "colab": {
          "base_uri": "https://localhost:8080/"
        },
        "id": "kxMISBOBIecn",
        "outputId": "6f255248-66f0-4284-b8ae-831cc049fdb2"
      },
      "execution_count": null,
      "outputs": [
        {
          "output_type": "execute_result",
          "data": {
            "text/plain": [
              "array([[0., 0., 0., ..., 0., 0., 0.],\n",
              "       [0., 0., 0., ..., 0., 0., 0.],\n",
              "       [0., 0., 0., ..., 0., 0., 0.],\n",
              "       ...,\n",
              "       [0., 0., 0., ..., 0., 0., 0.],\n",
              "       [0., 0., 0., ..., 0., 0., 0.],\n",
              "       [0., 0., 0., ..., 0., 0., 0.]])"
            ]
          },
          "metadata": {},
          "execution_count": 50
        },
        {
          "output_type": "stream",
          "name": "stdout",
          "text": [
            "\n",
            "\n",
            "\n"
          ]
        },
        {
          "output_type": "execute_result",
          "data": {
            "text/plain": [
              "(60000, 784)"
            ]
          },
          "metadata": {},
          "execution_count": 50
        }
      ]
    },
    {
      "cell_type": "markdown",
      "source": [
        "\n",
        "*   기존 신경망에서의 표준화 전처리(평균=0, 표준편차 1)\n",
        "*   이미지 경우, **픽셀의 최대값**인 **255**로 나누어서 전처리"
      ],
      "metadata": {
        "id": "jwdwnJYaQy-t"
      }
    },
    {
      "cell_type": "code",
      "source": [
        "train_target = train[['label']]\n",
        "train_target = train_target.to_numpy()\n",
        "train_target # 훈련 타깃 저장"
      ],
      "metadata": {
        "id": "9i4Mv2-ObXjk",
        "colab": {
          "base_uri": "https://localhost:8080/"
        },
        "outputId": "daac161b-fe2f-4d50-fc99-64175a4dac32"
      },
      "execution_count": null,
      "outputs": [
        {
          "output_type": "execute_result",
          "data": {
            "text/plain": [
              "array([[5],\n",
              "       [0],\n",
              "       [4],\n",
              "       ...,\n",
              "       [5],\n",
              "       [6],\n",
              "       [8]])"
            ]
          },
          "metadata": {},
          "execution_count": 51
        }
      ]
    },
    {
      "cell_type": "code",
      "source": [
        "train_y = train_target\n",
        "train_y = train_y.flatten()"
      ],
      "metadata": {
        "id": "Lybi6IVubXsc"
      },
      "execution_count": null,
      "outputs": []
    },
    {
      "cell_type": "markdown",
      "source": [
        "# **2.1 test data / submission data**"
      ],
      "metadata": {
        "id": "UjPYL0erPExs"
      }
    },
    {
      "cell_type": "code",
      "source": [
        "test.head(10)\n",
        "submission.head(10) # test data 에 대한 예측"
      ],
      "metadata": {
        "colab": {
          "base_uri": "https://localhost:8080/",
          "height": 738
        },
        "id": "JOpmT-gqPfJN",
        "outputId": "6abeaa2c-09ed-43be-cd56-b7c150939254"
      },
      "execution_count": null,
      "outputs": [
        {
          "output_type": "execute_result",
          "data": {
            "text/plain": [
              "   index  px1  px2  px3  px4  px5  px6  px7  px8  px9  ...  px775  px776  \\\n",
              "0      0    0    0    0    0    0    0    0    0    0  ...      0      0   \n",
              "1      1    0    0    0    0    0    0    0    0    0  ...      0      0   \n",
              "2      2    0    0    0    0    0    0    0    0    0  ...      0      0   \n",
              "3      3    0    0    0    0    0    0    0    0    0  ...      0      0   \n",
              "4      4    0    0    0    0    0    0    0    0    0  ...      0      0   \n",
              "5      5    0    0    0    0    0    0    0    0    0  ...      0      0   \n",
              "6      6    0    0    0    0    0    0    0    0    0  ...      0      0   \n",
              "7      7    0    0    0    0    0    0    0    0    0  ...      0      0   \n",
              "8      8    0    0    0    0    0    0    0    0    0  ...      0      0   \n",
              "9      9    0    0    0    0    0    0    0    0    0  ...      0      0   \n",
              "\n",
              "   px777  px778  px779  px780  px781  px782  px783  px784  \n",
              "0      0      0      0      0      0      0      0      0  \n",
              "1      0      0      0      0      0      0      0      0  \n",
              "2      0      0      0      0      0      0      0      0  \n",
              "3      0      0      0      0      0      0      0      0  \n",
              "4      0      0      0      0      0      0      0      0  \n",
              "5      0      0      0      0      0      0      0      0  \n",
              "6      0      0      0      0      0      0      0      0  \n",
              "7      0      0      0      0      0      0      0      0  \n",
              "8      0      0      0      0      0      0      0      0  \n",
              "9      0      0      0      0      0      0      0      0  \n",
              "\n",
              "[10 rows x 785 columns]"
            ],
            "text/html": [
              "\n",
              "  <div id=\"df-61e30c6c-3203-497d-b555-761f5682ebc8\">\n",
              "    <div class=\"colab-df-container\">\n",
              "      <div>\n",
              "<style scoped>\n",
              "    .dataframe tbody tr th:only-of-type {\n",
              "        vertical-align: middle;\n",
              "    }\n",
              "\n",
              "    .dataframe tbody tr th {\n",
              "        vertical-align: top;\n",
              "    }\n",
              "\n",
              "    .dataframe thead th {\n",
              "        text-align: right;\n",
              "    }\n",
              "</style>\n",
              "<table border=\"1\" class=\"dataframe\">\n",
              "  <thead>\n",
              "    <tr style=\"text-align: right;\">\n",
              "      <th></th>\n",
              "      <th>index</th>\n",
              "      <th>px1</th>\n",
              "      <th>px2</th>\n",
              "      <th>px3</th>\n",
              "      <th>px4</th>\n",
              "      <th>px5</th>\n",
              "      <th>px6</th>\n",
              "      <th>px7</th>\n",
              "      <th>px8</th>\n",
              "      <th>px9</th>\n",
              "      <th>...</th>\n",
              "      <th>px775</th>\n",
              "      <th>px776</th>\n",
              "      <th>px777</th>\n",
              "      <th>px778</th>\n",
              "      <th>px779</th>\n",
              "      <th>px780</th>\n",
              "      <th>px781</th>\n",
              "      <th>px782</th>\n",
              "      <th>px783</th>\n",
              "      <th>px784</th>\n",
              "    </tr>\n",
              "  </thead>\n",
              "  <tbody>\n",
              "    <tr>\n",
              "      <th>0</th>\n",
              "      <td>0</td>\n",
              "      <td>0</td>\n",
              "      <td>0</td>\n",
              "      <td>0</td>\n",
              "      <td>0</td>\n",
              "      <td>0</td>\n",
              "      <td>0</td>\n",
              "      <td>0</td>\n",
              "      <td>0</td>\n",
              "      <td>0</td>\n",
              "      <td>...</td>\n",
              "      <td>0</td>\n",
              "      <td>0</td>\n",
              "      <td>0</td>\n",
              "      <td>0</td>\n",
              "      <td>0</td>\n",
              "      <td>0</td>\n",
              "      <td>0</td>\n",
              "      <td>0</td>\n",
              "      <td>0</td>\n",
              "      <td>0</td>\n",
              "    </tr>\n",
              "    <tr>\n",
              "      <th>1</th>\n",
              "      <td>1</td>\n",
              "      <td>0</td>\n",
              "      <td>0</td>\n",
              "      <td>0</td>\n",
              "      <td>0</td>\n",
              "      <td>0</td>\n",
              "      <td>0</td>\n",
              "      <td>0</td>\n",
              "      <td>0</td>\n",
              "      <td>0</td>\n",
              "      <td>...</td>\n",
              "      <td>0</td>\n",
              "      <td>0</td>\n",
              "      <td>0</td>\n",
              "      <td>0</td>\n",
              "      <td>0</td>\n",
              "      <td>0</td>\n",
              "      <td>0</td>\n",
              "      <td>0</td>\n",
              "      <td>0</td>\n",
              "      <td>0</td>\n",
              "    </tr>\n",
              "    <tr>\n",
              "      <th>2</th>\n",
              "      <td>2</td>\n",
              "      <td>0</td>\n",
              "      <td>0</td>\n",
              "      <td>0</td>\n",
              "      <td>0</td>\n",
              "      <td>0</td>\n",
              "      <td>0</td>\n",
              "      <td>0</td>\n",
              "      <td>0</td>\n",
              "      <td>0</td>\n",
              "      <td>...</td>\n",
              "      <td>0</td>\n",
              "      <td>0</td>\n",
              "      <td>0</td>\n",
              "      <td>0</td>\n",
              "      <td>0</td>\n",
              "      <td>0</td>\n",
              "      <td>0</td>\n",
              "      <td>0</td>\n",
              "      <td>0</td>\n",
              "      <td>0</td>\n",
              "    </tr>\n",
              "    <tr>\n",
              "      <th>3</th>\n",
              "      <td>3</td>\n",
              "      <td>0</td>\n",
              "      <td>0</td>\n",
              "      <td>0</td>\n",
              "      <td>0</td>\n",
              "      <td>0</td>\n",
              "      <td>0</td>\n",
              "      <td>0</td>\n",
              "      <td>0</td>\n",
              "      <td>0</td>\n",
              "      <td>...</td>\n",
              "      <td>0</td>\n",
              "      <td>0</td>\n",
              "      <td>0</td>\n",
              "      <td>0</td>\n",
              "      <td>0</td>\n",
              "      <td>0</td>\n",
              "      <td>0</td>\n",
              "      <td>0</td>\n",
              "      <td>0</td>\n",
              "      <td>0</td>\n",
              "    </tr>\n",
              "    <tr>\n",
              "      <th>4</th>\n",
              "      <td>4</td>\n",
              "      <td>0</td>\n",
              "      <td>0</td>\n",
              "      <td>0</td>\n",
              "      <td>0</td>\n",
              "      <td>0</td>\n",
              "      <td>0</td>\n",
              "      <td>0</td>\n",
              "      <td>0</td>\n",
              "      <td>0</td>\n",
              "      <td>...</td>\n",
              "      <td>0</td>\n",
              "      <td>0</td>\n",
              "      <td>0</td>\n",
              "      <td>0</td>\n",
              "      <td>0</td>\n",
              "      <td>0</td>\n",
              "      <td>0</td>\n",
              "      <td>0</td>\n",
              "      <td>0</td>\n",
              "      <td>0</td>\n",
              "    </tr>\n",
              "    <tr>\n",
              "      <th>5</th>\n",
              "      <td>5</td>\n",
              "      <td>0</td>\n",
              "      <td>0</td>\n",
              "      <td>0</td>\n",
              "      <td>0</td>\n",
              "      <td>0</td>\n",
              "      <td>0</td>\n",
              "      <td>0</td>\n",
              "      <td>0</td>\n",
              "      <td>0</td>\n",
              "      <td>...</td>\n",
              "      <td>0</td>\n",
              "      <td>0</td>\n",
              "      <td>0</td>\n",
              "      <td>0</td>\n",
              "      <td>0</td>\n",
              "      <td>0</td>\n",
              "      <td>0</td>\n",
              "      <td>0</td>\n",
              "      <td>0</td>\n",
              "      <td>0</td>\n",
              "    </tr>\n",
              "    <tr>\n",
              "      <th>6</th>\n",
              "      <td>6</td>\n",
              "      <td>0</td>\n",
              "      <td>0</td>\n",
              "      <td>0</td>\n",
              "      <td>0</td>\n",
              "      <td>0</td>\n",
              "      <td>0</td>\n",
              "      <td>0</td>\n",
              "      <td>0</td>\n",
              "      <td>0</td>\n",
              "      <td>...</td>\n",
              "      <td>0</td>\n",
              "      <td>0</td>\n",
              "      <td>0</td>\n",
              "      <td>0</td>\n",
              "      <td>0</td>\n",
              "      <td>0</td>\n",
              "      <td>0</td>\n",
              "      <td>0</td>\n",
              "      <td>0</td>\n",
              "      <td>0</td>\n",
              "    </tr>\n",
              "    <tr>\n",
              "      <th>7</th>\n",
              "      <td>7</td>\n",
              "      <td>0</td>\n",
              "      <td>0</td>\n",
              "      <td>0</td>\n",
              "      <td>0</td>\n",
              "      <td>0</td>\n",
              "      <td>0</td>\n",
              "      <td>0</td>\n",
              "      <td>0</td>\n",
              "      <td>0</td>\n",
              "      <td>...</td>\n",
              "      <td>0</td>\n",
              "      <td>0</td>\n",
              "      <td>0</td>\n",
              "      <td>0</td>\n",
              "      <td>0</td>\n",
              "      <td>0</td>\n",
              "      <td>0</td>\n",
              "      <td>0</td>\n",
              "      <td>0</td>\n",
              "      <td>0</td>\n",
              "    </tr>\n",
              "    <tr>\n",
              "      <th>8</th>\n",
              "      <td>8</td>\n",
              "      <td>0</td>\n",
              "      <td>0</td>\n",
              "      <td>0</td>\n",
              "      <td>0</td>\n",
              "      <td>0</td>\n",
              "      <td>0</td>\n",
              "      <td>0</td>\n",
              "      <td>0</td>\n",
              "      <td>0</td>\n",
              "      <td>...</td>\n",
              "      <td>0</td>\n",
              "      <td>0</td>\n",
              "      <td>0</td>\n",
              "      <td>0</td>\n",
              "      <td>0</td>\n",
              "      <td>0</td>\n",
              "      <td>0</td>\n",
              "      <td>0</td>\n",
              "      <td>0</td>\n",
              "      <td>0</td>\n",
              "    </tr>\n",
              "    <tr>\n",
              "      <th>9</th>\n",
              "      <td>9</td>\n",
              "      <td>0</td>\n",
              "      <td>0</td>\n",
              "      <td>0</td>\n",
              "      <td>0</td>\n",
              "      <td>0</td>\n",
              "      <td>0</td>\n",
              "      <td>0</td>\n",
              "      <td>0</td>\n",
              "      <td>0</td>\n",
              "      <td>...</td>\n",
              "      <td>0</td>\n",
              "      <td>0</td>\n",
              "      <td>0</td>\n",
              "      <td>0</td>\n",
              "      <td>0</td>\n",
              "      <td>0</td>\n",
              "      <td>0</td>\n",
              "      <td>0</td>\n",
              "      <td>0</td>\n",
              "      <td>0</td>\n",
              "    </tr>\n",
              "  </tbody>\n",
              "</table>\n",
              "<p>10 rows × 785 columns</p>\n",
              "</div>\n",
              "      <button class=\"colab-df-convert\" onclick=\"convertToInteractive('df-61e30c6c-3203-497d-b555-761f5682ebc8')\"\n",
              "              title=\"Convert this dataframe to an interactive table.\"\n",
              "              style=\"display:none;\">\n",
              "        \n",
              "  <svg xmlns=\"http://www.w3.org/2000/svg\" height=\"24px\"viewBox=\"0 0 24 24\"\n",
              "       width=\"24px\">\n",
              "    <path d=\"M0 0h24v24H0V0z\" fill=\"none\"/>\n",
              "    <path d=\"M18.56 5.44l.94 2.06.94-2.06 2.06-.94-2.06-.94-.94-2.06-.94 2.06-2.06.94zm-11 1L8.5 8.5l.94-2.06 2.06-.94-2.06-.94L8.5 2.5l-.94 2.06-2.06.94zm10 10l.94 2.06.94-2.06 2.06-.94-2.06-.94-.94-2.06-.94 2.06-2.06.94z\"/><path d=\"M17.41 7.96l-1.37-1.37c-.4-.4-.92-.59-1.43-.59-.52 0-1.04.2-1.43.59L10.3 9.45l-7.72 7.72c-.78.78-.78 2.05 0 2.83L4 21.41c.39.39.9.59 1.41.59.51 0 1.02-.2 1.41-.59l7.78-7.78 2.81-2.81c.8-.78.8-2.07 0-2.86zM5.41 20L4 18.59l7.72-7.72 1.47 1.35L5.41 20z\"/>\n",
              "  </svg>\n",
              "      </button>\n",
              "      \n",
              "  <style>\n",
              "    .colab-df-container {\n",
              "      display:flex;\n",
              "      flex-wrap:wrap;\n",
              "      gap: 12px;\n",
              "    }\n",
              "\n",
              "    .colab-df-convert {\n",
              "      background-color: #E8F0FE;\n",
              "      border: none;\n",
              "      border-radius: 50%;\n",
              "      cursor: pointer;\n",
              "      display: none;\n",
              "      fill: #1967D2;\n",
              "      height: 32px;\n",
              "      padding: 0 0 0 0;\n",
              "      width: 32px;\n",
              "    }\n",
              "\n",
              "    .colab-df-convert:hover {\n",
              "      background-color: #E2EBFA;\n",
              "      box-shadow: 0px 1px 2px rgba(60, 64, 67, 0.3), 0px 1px 3px 1px rgba(60, 64, 67, 0.15);\n",
              "      fill: #174EA6;\n",
              "    }\n",
              "\n",
              "    [theme=dark] .colab-df-convert {\n",
              "      background-color: #3B4455;\n",
              "      fill: #D2E3FC;\n",
              "    }\n",
              "\n",
              "    [theme=dark] .colab-df-convert:hover {\n",
              "      background-color: #434B5C;\n",
              "      box-shadow: 0px 1px 3px 1px rgba(0, 0, 0, 0.15);\n",
              "      filter: drop-shadow(0px 1px 2px rgba(0, 0, 0, 0.3));\n",
              "      fill: #FFFFFF;\n",
              "    }\n",
              "  </style>\n",
              "\n",
              "      <script>\n",
              "        const buttonEl =\n",
              "          document.querySelector('#df-61e30c6c-3203-497d-b555-761f5682ebc8 button.colab-df-convert');\n",
              "        buttonEl.style.display =\n",
              "          google.colab.kernel.accessAllowed ? 'block' : 'none';\n",
              "\n",
              "        async function convertToInteractive(key) {\n",
              "          const element = document.querySelector('#df-61e30c6c-3203-497d-b555-761f5682ebc8');\n",
              "          const dataTable =\n",
              "            await google.colab.kernel.invokeFunction('convertToInteractive',\n",
              "                                                     [key], {});\n",
              "          if (!dataTable) return;\n",
              "\n",
              "          const docLinkHtml = 'Like what you see? Visit the ' +\n",
              "            '<a target=\"_blank\" href=https://colab.research.google.com/notebooks/data_table.ipynb>data table notebook</a>'\n",
              "            + ' to learn more about interactive tables.';\n",
              "          element.innerHTML = '';\n",
              "          dataTable['output_type'] = 'display_data';\n",
              "          await google.colab.output.renderOutput(dataTable, element);\n",
              "          const docLink = document.createElement('div');\n",
              "          docLink.innerHTML = docLinkHtml;\n",
              "          element.appendChild(docLink);\n",
              "        }\n",
              "      </script>\n",
              "    </div>\n",
              "  </div>\n",
              "  "
            ]
          },
          "metadata": {},
          "execution_count": 53
        },
        {
          "output_type": "execute_result",
          "data": {
            "text/plain": [
              "   index  label\n",
              "0      0      7\n",
              "1      1      2\n",
              "2      2      1\n",
              "3      3      0\n",
              "4      4      4\n",
              "5      5      1\n",
              "6      6      4\n",
              "7      7      9\n",
              "8      8      5\n",
              "9      9      9"
            ],
            "text/html": [
              "\n",
              "  <div id=\"df-8d8c689c-ee57-4a5c-b7b3-a80f09a2c766\">\n",
              "    <div class=\"colab-df-container\">\n",
              "      <div>\n",
              "<style scoped>\n",
              "    .dataframe tbody tr th:only-of-type {\n",
              "        vertical-align: middle;\n",
              "    }\n",
              "\n",
              "    .dataframe tbody tr th {\n",
              "        vertical-align: top;\n",
              "    }\n",
              "\n",
              "    .dataframe thead th {\n",
              "        text-align: right;\n",
              "    }\n",
              "</style>\n",
              "<table border=\"1\" class=\"dataframe\">\n",
              "  <thead>\n",
              "    <tr style=\"text-align: right;\">\n",
              "      <th></th>\n",
              "      <th>index</th>\n",
              "      <th>label</th>\n",
              "    </tr>\n",
              "  </thead>\n",
              "  <tbody>\n",
              "    <tr>\n",
              "      <th>0</th>\n",
              "      <td>0</td>\n",
              "      <td>7</td>\n",
              "    </tr>\n",
              "    <tr>\n",
              "      <th>1</th>\n",
              "      <td>1</td>\n",
              "      <td>2</td>\n",
              "    </tr>\n",
              "    <tr>\n",
              "      <th>2</th>\n",
              "      <td>2</td>\n",
              "      <td>1</td>\n",
              "    </tr>\n",
              "    <tr>\n",
              "      <th>3</th>\n",
              "      <td>3</td>\n",
              "      <td>0</td>\n",
              "    </tr>\n",
              "    <tr>\n",
              "      <th>4</th>\n",
              "      <td>4</td>\n",
              "      <td>4</td>\n",
              "    </tr>\n",
              "    <tr>\n",
              "      <th>5</th>\n",
              "      <td>5</td>\n",
              "      <td>1</td>\n",
              "    </tr>\n",
              "    <tr>\n",
              "      <th>6</th>\n",
              "      <td>6</td>\n",
              "      <td>4</td>\n",
              "    </tr>\n",
              "    <tr>\n",
              "      <th>7</th>\n",
              "      <td>7</td>\n",
              "      <td>9</td>\n",
              "    </tr>\n",
              "    <tr>\n",
              "      <th>8</th>\n",
              "      <td>8</td>\n",
              "      <td>5</td>\n",
              "    </tr>\n",
              "    <tr>\n",
              "      <th>9</th>\n",
              "      <td>9</td>\n",
              "      <td>9</td>\n",
              "    </tr>\n",
              "  </tbody>\n",
              "</table>\n",
              "</div>\n",
              "      <button class=\"colab-df-convert\" onclick=\"convertToInteractive('df-8d8c689c-ee57-4a5c-b7b3-a80f09a2c766')\"\n",
              "              title=\"Convert this dataframe to an interactive table.\"\n",
              "              style=\"display:none;\">\n",
              "        \n",
              "  <svg xmlns=\"http://www.w3.org/2000/svg\" height=\"24px\"viewBox=\"0 0 24 24\"\n",
              "       width=\"24px\">\n",
              "    <path d=\"M0 0h24v24H0V0z\" fill=\"none\"/>\n",
              "    <path d=\"M18.56 5.44l.94 2.06.94-2.06 2.06-.94-2.06-.94-.94-2.06-.94 2.06-2.06.94zm-11 1L8.5 8.5l.94-2.06 2.06-.94-2.06-.94L8.5 2.5l-.94 2.06-2.06.94zm10 10l.94 2.06.94-2.06 2.06-.94-2.06-.94-.94-2.06-.94 2.06-2.06.94z\"/><path d=\"M17.41 7.96l-1.37-1.37c-.4-.4-.92-.59-1.43-.59-.52 0-1.04.2-1.43.59L10.3 9.45l-7.72 7.72c-.78.78-.78 2.05 0 2.83L4 21.41c.39.39.9.59 1.41.59.51 0 1.02-.2 1.41-.59l7.78-7.78 2.81-2.81c.8-.78.8-2.07 0-2.86zM5.41 20L4 18.59l7.72-7.72 1.47 1.35L5.41 20z\"/>\n",
              "  </svg>\n",
              "      </button>\n",
              "      \n",
              "  <style>\n",
              "    .colab-df-container {\n",
              "      display:flex;\n",
              "      flex-wrap:wrap;\n",
              "      gap: 12px;\n",
              "    }\n",
              "\n",
              "    .colab-df-convert {\n",
              "      background-color: #E8F0FE;\n",
              "      border: none;\n",
              "      border-radius: 50%;\n",
              "      cursor: pointer;\n",
              "      display: none;\n",
              "      fill: #1967D2;\n",
              "      height: 32px;\n",
              "      padding: 0 0 0 0;\n",
              "      width: 32px;\n",
              "    }\n",
              "\n",
              "    .colab-df-convert:hover {\n",
              "      background-color: #E2EBFA;\n",
              "      box-shadow: 0px 1px 2px rgba(60, 64, 67, 0.3), 0px 1px 3px 1px rgba(60, 64, 67, 0.15);\n",
              "      fill: #174EA6;\n",
              "    }\n",
              "\n",
              "    [theme=dark] .colab-df-convert {\n",
              "      background-color: #3B4455;\n",
              "      fill: #D2E3FC;\n",
              "    }\n",
              "\n",
              "    [theme=dark] .colab-df-convert:hover {\n",
              "      background-color: #434B5C;\n",
              "      box-shadow: 0px 1px 3px 1px rgba(0, 0, 0, 0.15);\n",
              "      filter: drop-shadow(0px 1px 2px rgba(0, 0, 0, 0.3));\n",
              "      fill: #FFFFFF;\n",
              "    }\n",
              "  </style>\n",
              "\n",
              "      <script>\n",
              "        const buttonEl =\n",
              "          document.querySelector('#df-8d8c689c-ee57-4a5c-b7b3-a80f09a2c766 button.colab-df-convert');\n",
              "        buttonEl.style.display =\n",
              "          google.colab.kernel.accessAllowed ? 'block' : 'none';\n",
              "\n",
              "        async function convertToInteractive(key) {\n",
              "          const element = document.querySelector('#df-8d8c689c-ee57-4a5c-b7b3-a80f09a2c766');\n",
              "          const dataTable =\n",
              "            await google.colab.kernel.invokeFunction('convertToInteractive',\n",
              "                                                     [key], {});\n",
              "          if (!dataTable) return;\n",
              "\n",
              "          const docLinkHtml = 'Like what you see? Visit the ' +\n",
              "            '<a target=\"_blank\" href=https://colab.research.google.com/notebooks/data_table.ipynb>data table notebook</a>'\n",
              "            + ' to learn more about interactive tables.';\n",
              "          element.innerHTML = '';\n",
              "          dataTable['output_type'] = 'display_data';\n",
              "          await google.colab.output.renderOutput(dataTable, element);\n",
              "          const docLink = document.createElement('div');\n",
              "          docLink.innerHTML = docLinkHtml;\n",
              "          element.appendChild(docLink);\n",
              "        }\n",
              "      </script>\n",
              "    </div>\n",
              "  </div>\n",
              "  "
            ]
          },
          "metadata": {},
          "execution_count": 53
        }
      ]
    },
    {
      "cell_type": "code",
      "source": [
        "test_data = test.drop(test.columns[[0]], axis = 1)\n",
        "test_data = test_data.to_numpy()\n",
        "test_data"
      ],
      "metadata": {
        "colab": {
          "base_uri": "https://localhost:8080/"
        },
        "id": "jK4lvRG3PG7h",
        "outputId": "05c0ad35-2a17-4d16-f641-8823538ad398"
      },
      "execution_count": null,
      "outputs": [
        {
          "output_type": "execute_result",
          "data": {
            "text/plain": [
              "array([[0, 0, 0, ..., 0, 0, 0],\n",
              "       [0, 0, 0, ..., 0, 0, 0],\n",
              "       [0, 0, 0, ..., 0, 0, 0],\n",
              "       ...,\n",
              "       [0, 0, 0, ..., 0, 0, 0],\n",
              "       [0, 0, 0, ..., 0, 0, 0],\n",
              "       [0, 0, 0, ..., 0, 0, 0]])"
            ]
          },
          "metadata": {},
          "execution_count": 54
        }
      ]
    },
    {
      "cell_type": "code",
      "source": [
        "test_target = submission[['label']] # 숫자 손글씨의 진짜 숫자들\n",
        "test_target = test_target.to_numpy().flatten() # 벡터화\n",
        "test_target"
      ],
      "metadata": {
        "colab": {
          "base_uri": "https://localhost:8080/"
        },
        "id": "v95Sv3uUPG9p",
        "outputId": "c40360d9-9319-425b-a301-d8a4850d5649"
      },
      "execution_count": null,
      "outputs": [
        {
          "output_type": "execute_result",
          "data": {
            "text/plain": [
              "array([7, 2, 1, ..., 4, 5, 6])"
            ]
          },
          "metadata": {},
          "execution_count": 55
        }
      ]
    },
    {
      "cell_type": "code",
      "source": [
        "test_x = test_data / 255 # 픽셀 최대값으로 나누기\n",
        "test_y = test_target"
      ],
      "metadata": {
        "id": "po7kd4sAPHC_"
      },
      "execution_count": null,
      "outputs": []
    },
    {
      "cell_type": "code",
      "source": [
        "train_x, train_x.shape\n",
        "print(\"\\n\")\n",
        "train_y,train_y.shape\n",
        "print(\"\\n\")\n",
        "test_x,test_x.shape\n",
        "print(\"\\n\")\n",
        "test_y,test_y.shape"
      ],
      "metadata": {
        "colab": {
          "base_uri": "https://localhost:8080/"
        },
        "id": "XrinMh6QPHFi",
        "outputId": "a0a778b1-34d0-498b-d934-eb2598e2a940"
      },
      "execution_count": null,
      "outputs": [
        {
          "output_type": "execute_result",
          "data": {
            "text/plain": [
              "(array([[0., 0., 0., ..., 0., 0., 0.],\n",
              "        [0., 0., 0., ..., 0., 0., 0.],\n",
              "        [0., 0., 0., ..., 0., 0., 0.],\n",
              "        ...,\n",
              "        [0., 0., 0., ..., 0., 0., 0.],\n",
              "        [0., 0., 0., ..., 0., 0., 0.],\n",
              "        [0., 0., 0., ..., 0., 0., 0.]]), (60000, 784))"
            ]
          },
          "metadata": {},
          "execution_count": 57
        },
        {
          "output_type": "stream",
          "name": "stdout",
          "text": [
            "\n",
            "\n"
          ]
        },
        {
          "output_type": "execute_result",
          "data": {
            "text/plain": [
              "(array([5, 0, 4, ..., 5, 6, 8]), (60000,))"
            ]
          },
          "metadata": {},
          "execution_count": 57
        },
        {
          "output_type": "stream",
          "name": "stdout",
          "text": [
            "\n",
            "\n"
          ]
        },
        {
          "output_type": "execute_result",
          "data": {
            "text/plain": [
              "(array([[0., 0., 0., ..., 0., 0., 0.],\n",
              "        [0., 0., 0., ..., 0., 0., 0.],\n",
              "        [0., 0., 0., ..., 0., 0., 0.],\n",
              "        ...,\n",
              "        [0., 0., 0., ..., 0., 0., 0.],\n",
              "        [0., 0., 0., ..., 0., 0., 0.],\n",
              "        [0., 0., 0., ..., 0., 0., 0.]]), (10000, 784))"
            ]
          },
          "metadata": {},
          "execution_count": 57
        },
        {
          "output_type": "stream",
          "name": "stdout",
          "text": [
            "\n",
            "\n"
          ]
        },
        {
          "output_type": "execute_result",
          "data": {
            "text/plain": [
              "(array([7, 2, 1, ..., 4, 5, 6]), (10000,))"
            ]
          },
          "metadata": {},
          "execution_count": 57
        }
      ]
    },
    {
      "cell_type": "markdown",
      "source": [
        "# **3. Modeling & Prediction**"
      ],
      "metadata": {
        "id": "O1-leEhDUseI"
      }
    },
    {
      "cell_type": "markdown",
      "source": [
        "# **3.1 다중 분류 신경망**\n",
        "\n",
        "\n",
        "\n",
        "*   MultiClassNetwork 구현 코드로 다중 분류 신경망 훈련\n",
        "\n"
      ],
      "metadata": {
        "id": "6DD5oJppR6FQ"
      }
    },
    {
      "cell_type": "markdown",
      "source": [
        "**3.1.0 훈련/검정 세트 설정**"
      ],
      "metadata": {
        "id": "9554d4atfGQp"
      }
    },
    {
      "cell_type": "code",
      "source": [
        "from sklearn.model_selection import train_test_split"
      ],
      "metadata": {
        "id": "bkJpmayzVJlb"
      },
      "execution_count": null,
      "outputs": []
    },
    {
      "cell_type": "code",
      "source": [
        "train_x, test_x = train_x.reshape(-1, 28, 28), test_x.reshape(-1, 28, 28) "
      ],
      "metadata": {
        "id": "XLHU30woR7WY"
      },
      "execution_count": null,
      "outputs": []
    },
    {
      "cell_type": "code",
      "source": [
        "train_x.shape"
      ],
      "metadata": {
        "colab": {
          "base_uri": "https://localhost:8080/"
        },
        "id": "tQI1P3SPR7YI",
        "outputId": "d641d95c-6cb3-45b3-daa7-f1a1dfd7f81b"
      },
      "execution_count": null,
      "outputs": [
        {
          "output_type": "execute_result",
          "data": {
            "text/plain": [
              "(60000, 28, 28)"
            ]
          },
          "metadata": {},
          "execution_count": 59
        }
      ]
    },
    {
      "cell_type": "code",
      "source": [
        "plt.imshow(train_x[10],cmap='gray') \n",
        "plt.show()"
      ],
      "metadata": {
        "colab": {
          "base_uri": "https://localhost:8080/",
          "height": 313
        },
        "id": "AFbQdbKsR7dH",
        "outputId": "ec0239b1-4dae-40c2-9943-b60b4b8768c0"
      },
      "execution_count": null,
      "outputs": [
        {
          "output_type": "execute_result",
          "data": {
            "text/plain": [
              "<matplotlib.image.AxesImage at 0x7f9791a3a910>"
            ]
          },
          "metadata": {},
          "execution_count": 192
        },
        {
          "output_type": "stream",
          "name": "stderr",
          "text": [
            "WARNING:matplotlib.font_manager:findfont: Font family ['Malgun Gothic'] not found. Falling back to DejaVu Sans.\n"
          ]
        },
        {
          "output_type": "display_data",
          "data": {
            "text/plain": [
              "<Figure size 432x288 with 1 Axes>"
            ],
            "image/png": "[encoded data removed]"
          },
          "metadata": {
            "needs_background": "light"
          }
        }
      ]
    },
    {
      "cell_type": "code",
      "source": [
        "x_train, x_val, y_train, y_val = train_test_split(train_x, train_y, stratify=train_y,test_size=0.2, random_state=42)"
      ],
      "metadata": {
        "id": "IQQlT8Tla7QR"
      },
      "execution_count": null,
      "outputs": []
    },
    {
      "cell_type": "code",
      "source": [
        "print('<training set>') \n",
        "x_train.shape, x_val.shape\n",
        "print(\"\\n\\n<validation set>\")\n",
        "y_train.shape, y_val.shape\n",
        "print(\"\\n\\n<test set>\")\n",
        "test_x.shape, test_y.shape"
      ],
      "metadata": {
        "colab": {
          "base_uri": "https://localhost:8080/"
        },
        "id": "lm3rbzMPa8s0",
        "outputId": "12fca5da-2248-4bdb-dfbd-227ced904639"
      },
      "execution_count": null,
      "outputs": [
        {
          "output_type": "stream",
          "name": "stdout",
          "text": [
            "<training set>\n"
          ]
        },
        {
          "output_type": "execute_result",
          "data": {
            "text/plain": [
              "((48000, 28, 28), (12000, 28, 28))"
            ]
          },
          "metadata": {},
          "execution_count": 61
        },
        {
          "output_type": "stream",
          "name": "stdout",
          "text": [
            "\n",
            "\n",
            "<validation set>\n"
          ]
        },
        {
          "output_type": "execute_result",
          "data": {
            "text/plain": [
              "((48000,), (12000,))"
            ]
          },
          "metadata": {},
          "execution_count": 61
        },
        {
          "output_type": "stream",
          "name": "stdout",
          "text": [
            "\n",
            "\n",
            "<test set>\n"
          ]
        },
        {
          "output_type": "execute_result",
          "data": {
            "text/plain": [
              "((10000, 28, 28), (10000,))"
            ]
          },
          "metadata": {},
          "execution_count": 61
        }
      ]
    },
    {
      "cell_type": "code",
      "source": [
        "# 28 x 28 배열을 1차원 배열로 바꿈 \n",
        "x_train = x_train.reshape(-1,784) \n",
        "x_val=x_val.reshape(-1,784) \n",
        "x_test = test_x.reshape(-1,784) \n",
        "x_train.shape"
      ],
      "metadata": {
        "colab": {
          "base_uri": "https://localhost:8080/"
        },
        "id": "hpos7nNdcgww",
        "outputId": "136418d0-f929-4111-ae35-a3628deb008d"
      },
      "execution_count": null,
      "outputs": [
        {
          "output_type": "execute_result",
          "data": {
            "text/plain": [
              "(48000, 784)"
            ]
          },
          "metadata": {},
          "execution_count": 62
        }
      ]
    },
    {
      "cell_type": "code",
      "source": [
        "# 정수인 타깃값을 원-핫 인코딩(one-hot encoding)으로 변환\n",
        "\n",
        "y_train = keras.utils.to_categorical(y_train, 10) \n",
        "y_val=keras.utils.to_categorical(y_val,10) \n",
        "y_test = keras.utils.to_categorical(test_y, 10)"
      ],
      "metadata": {
        "id": "M2m4hHhGeTPc"
      },
      "execution_count": null,
      "outputs": []
    },
    {
      "cell_type": "code",
      "source": [
        "print('<training set>') \n",
        "x_train.shape, x_val.shape\n",
        "print(\"\\n\\n<validation set>\")\n",
        "y_train.shape, y_val.shape\n",
        "print(\"\\n\\n<test set>\")\n",
        "test_x.shape, test_y.shape"
      ],
      "metadata": {
        "colab": {
          "base_uri": "https://localhost:8080/"
        },
        "id": "Wbm7uFmqeo9d",
        "outputId": "0dafc338-ce24-4506-a305-05afcb72ee90"
      },
      "execution_count": null,
      "outputs": [
        {
          "output_type": "stream",
          "name": "stdout",
          "text": [
            "<training set>\n"
          ]
        },
        {
          "output_type": "execute_result",
          "data": {
            "text/plain": [
              "((48000, 784), (12000, 784))"
            ]
          },
          "metadata": {},
          "execution_count": 64
        },
        {
          "output_type": "stream",
          "name": "stdout",
          "text": [
            "\n",
            "\n",
            "<validation set>\n"
          ]
        },
        {
          "output_type": "execute_result",
          "data": {
            "text/plain": [
              "((48000, 10), (12000, 10))"
            ]
          },
          "metadata": {},
          "execution_count": 64
        },
        {
          "output_type": "stream",
          "name": "stdout",
          "text": [
            "\n",
            "\n",
            "<test set>\n"
          ]
        },
        {
          "output_type": "execute_result",
          "data": {
            "text/plain": [
              "((10000, 28, 28), (10000,))"
            ]
          },
          "metadata": {},
          "execution_count": 64
        }
      ]
    },
    {
      "cell_type": "markdown",
      "source": [
        "**3.1.1 다중 분류 신경망 구현 코드**\n",
        "\n",
        "\n",
        "*   교재 깃허브 참고\n",
        "\n",
        "\n",
        "\n"
      ],
      "metadata": {
        "id": "5qF1svQnZet6"
      }
    },
    {
      "cell_type": "code",
      "source": [
        "class MultiClassNetwork1:\n",
        "    \n",
        "    def __init__(self, units=10, batch_size=32, learning_rate=0.1, l1=0,l2 =0):\n",
        "        self.units = units         # 은닉층의 뉴런 개수\n",
        "        self.batch_size = batch_size     # 배치 크기\n",
        "        self.w1 = None             # 은닉층의 가중치\n",
        "        self.b1 = None             # 은닉층의 절편\n",
        "        self.w2 = None             # 출력층의 가중치\n",
        "        self.b2 = None             # 출력층의 절편\n",
        "        self.a1 = None             # 은닉층의 활성화 출력\n",
        "        self.losses = []           # 훈련 손실\n",
        "        self.val_losses = []       # 검증 손실\n",
        "        self.lr = learning_rate    # 학습률\n",
        "        self.l1 = l1               # L1 손실 하이퍼파라미터\n",
        "        self.l2 = l2               # L2 손실 하이퍼파라미터\n",
        "\n",
        "    def forpass(self, x):\n",
        "        z1 = np.dot(x, self.w1) + self.b1        # 첫 번째 층의 선형 식을 계산합니다\n",
        "        self.a1 = self.sigmoid(z1)               # 활성화 함수를 적용합니다\n",
        "        z2 = np.dot(self.a1, self.w2) + self.b2  # 두 번째 층의 선형 식을 계산합니다.\n",
        "        return z2\n",
        "\n",
        "    def backprop(self, x, err):\n",
        "        m = len(x)       # 샘플 개수\n",
        "        # 출력층의 가중치와 절편에 대한 그래디언트를 계산합니다.\n",
        "        w2_grad = np.dot(self.a1.T, err) / m\n",
        "        b2_grad = np.sum(err) / m\n",
        "        # 시그모이드 함수까지 그래디언트를 계산합니다.\n",
        "        err_to_hidden = np.dot(err, self.w2.T) * self.a1 * (1 - self.a1)\n",
        "        # 은닉층의 가중치와 절편에 대한 그래디언트를 계산합니다.\n",
        "        w1_grad = np.dot(x.T, err_to_hidden) / m\n",
        "        b1_grad = np.sum(err_to_hidden, axis=0) / m\n",
        "        return w1_grad, b1_grad, w2_grad, b2_grad\n",
        "    \n",
        "    def sigmoid(self, z):\n",
        "        z = np.clip(z, -100, None)            # 안전한 np.exp() 계산을 위해\n",
        "        a = 1 / (1 + np.exp(-z))              # 시그모이드 계산\n",
        "        return a\n",
        "    \n",
        "    def softmax(self, z):\n",
        "        # 소프트맥스 함수\n",
        "        z = np.clip(z, -100, None)            # 안전한 np.exp() 계산을 위해\n",
        "        exp_z = np.exp(z)\n",
        "        return exp_z / np.sum(exp_z, axis=1).reshape(-1, 1)\n",
        " \n",
        "    def init_weights(self, n_features, n_classes): # 가중치 초기화\n",
        "        self.w1 = np.random.normal(0, 1, \n",
        "                                   (n_features, self.units))  # (특성 개수, 은닉층의 크기)\n",
        "        self.b1 = np.zeros(self.units)                        # 은닉층의 크기\n",
        "        self.w2 = np.random.normal(0, 1, \n",
        "                                   (self.units, n_classes))   # (은닉층의 크기, 클래스 개수)\n",
        "        self.b2 = np.zeros(n_classes)\n",
        "        \n",
        "    def fit(self, x, y, epochs=100, x_val=None, y_val=None): # 훈련\n",
        "        np.random.seed(42)\n",
        "        self.init_weights(x.shape[1], y.shape[1])    # 은닉층과 출력층의 가중치를 초기화합니다.\n",
        "        # epochs만큼 반복합니다.\n",
        "        for i in range(epochs):\n",
        "            loss = 0\n",
        "            # 제너레이터 함수에서 반환한 미니배치를 순환합니다.\n",
        "            for x_batch, y_batch in self.gen_batch(x, y):\n",
        "                a = self.training(x_batch, y_batch)\n",
        "                # 안전한 로그 계산을 위해 클리핑합니다.\n",
        "                a = np.clip(a, 1e-10, 1-1e-10)\n",
        "                # 로그 손실과 규제 손실을 더하여 리스트에 추가합니다.\n",
        "                loss += np.sum(-y_batch*np.log(a))\n",
        "            self.losses.append((loss + self.reg_loss()) / len(x))\n",
        "            # 검증 세트에 대한 손실을 계산합니다.\n",
        "            num = self.update_val_loss(x_val, y_val)\n",
        "            print('epochs = ',i+1,'val_loss = %.3f'%num)\n",
        "            \n",
        "\n",
        "    # 미니배치 제너레이터 함수\n",
        "    def gen_batch(self, x, y):\n",
        "        length = len(x)\n",
        "        bins = length // self.batch_size # 미니배치 횟수\n",
        "        if length % self.batch_size:\n",
        "            bins += 1                    # 나누어 떨어지지 않을 때\n",
        "        indexes = np.random.permutation(np.arange(len(x))) # 인덱스를 섞습니다.\n",
        "        x = x[indexes]\n",
        "        y = y[indexes]\n",
        "        for i in range(bins):\n",
        "            start = self.batch_size * i\n",
        "            end = self.batch_size * (i + 1)\n",
        "            yield x[start:end], y[start:end]   # batch_size만큼 슬라이싱하여 반환합니다.\n",
        "            \n",
        "    def training(self, x, y):  # 가중치/절편 업데이트\n",
        "        m = len(x)                # 샘플 개수를 저장합니다.\n",
        "        z = self.forpass(x)       # 정방향 계산을 수행합니다.\n",
        "        a = self.softmax(z)       # 활성화 함수를 적용합니다.\n",
        "        err = -(y - a)            # 오차를 계산합니다.\n",
        "        # 오차를 역전파하여 그래디언트를 계산합니다.\n",
        "        w1_grad, b1_grad, w2_grad, b2_grad = self.backprop(x, err)\n",
        "        # 그래디언트에서 페널티 항의 미분 값을 뺍니다\n",
        "        w1_grad += (self.l1 * np.sign(self.w1) + self.l2 * self.w1) / m\n",
        "        w2_grad += (self.l1 * np.sign(self.w2) + self.l2 * self.w2) / m\n",
        "        # 은닉층의 가중치와 절편을 업데이트합니다.\n",
        "        self.w1 -= self.lr * w1_grad\n",
        "        self.b1 -= self.lr * b1_grad\n",
        "        # 출력층의 가중치와 절편을 업데이트합니다.\n",
        "        self.w2 -= self.lr * w2_grad\n",
        "        self.b2 -= self.lr * b2_grad\n",
        "        return a\n",
        "   \n",
        "    def predict(self, x): # 예측\n",
        "        z = self.forpass(x)          # 정방향 계산을 수행합니다.\n",
        "        return np.argmax(z, axis=1)  # 가장 큰 값의 인덱스를 반환합니다.\n",
        "    \n",
        "    def score(self, x, y): # 검증\n",
        "        # 예측과 타깃 열 벡터를 비교하여 True의 비율을 반환합니다.\n",
        "        return np.mean(self.predict(x) == np.argmax(y, axis=1))\n",
        "\n",
        "    def reg_loss(self): # 손실 계산\n",
        "        # 은닉층과 출력층의 가중치에 규제를 적용합니다.\n",
        "        return self.l1 * (np.sum(np.abs(self.w1)) + np.sum(np.abs(self.w2))) + \\\n",
        "               self.l2 / 2 * (np.sum(self.w1**2) + np.sum(self.w2**2))\n",
        "\n",
        "    def update_val_loss(self, x_val, y_val):\n",
        "        z = self.forpass(x_val)            # 정방향 계산을 수행합니다.\n",
        "        a = self.softmax(z)                # 활성화 함수를 적용합니다.\n",
        "        a = np.clip(a, 1e-10, 1-1e-10)     # 출력 값을 클리핑합니다.\n",
        "        # 크로스 엔트로피 손실과 규제 손실을 더하여 리스트에 추가합니다.\n",
        "        val_loss = np.sum(-y_val*np.log(a))\n",
        "        self.val_losses.append((val_loss + self.reg_loss()) / len(y_val))\n",
        "        return (val_loss + self.reg_loss()) / len(y_val)"
      ],
      "metadata": {
        "id": "UwBYHgq9ISth"
      },
      "execution_count": null,
      "outputs": []
    },
    {
      "cell_type": "markdown",
      "source": [
        "**3.1.2 모델 생성**"
      ],
      "metadata": {
        "id": "79kiVX3ufmMc"
      }
    },
    {
      "cell_type": "code",
      "source": [
        "model1=MultiClassNetwork1(units=100, batch_size=256) \n",
        "model1.fit(x_train,y_train,x_val=x_val,y_val=y_val,epochs=200)"
      ],
      "metadata": {
        "colab": {
          "base_uri": "https://localhost:8080/"
        },
        "id": "F1w-RqJqIJ6P",
        "outputId": "99fc258a-7775-443e-ab94-d19694c85138"
      },
      "execution_count": null,
      "outputs": [
        {
          "output_type": "stream",
          "name": "stdout",
          "text": [
            "epochs =  1 val_loss = 1.839\n",
            "epochs =  2 val_loss = 1.240\n",
            "epochs =  3 val_loss = 0.998\n",
            "epochs =  4 val_loss = 0.867\n",
            "epochs =  5 val_loss = 0.783\n",
            "epochs =  6 val_loss = 0.720\n",
            "epochs =  7 val_loss = 0.674\n",
            "epochs =  8 val_loss = 0.635\n",
            "epochs =  9 val_loss = 0.607\n",
            "epochs =  10 val_loss = 0.581\n",
            "epochs =  11 val_loss = 0.559\n",
            "epochs =  12 val_loss = 0.540\n",
            "epochs =  13 val_loss = 0.525\n",
            "epochs =  14 val_loss = 0.509\n",
            "epochs =  15 val_loss = 0.496\n",
            "epochs =  16 val_loss = 0.486\n",
            "epochs =  17 val_loss = 0.475\n",
            "epochs =  18 val_loss = 0.466\n",
            "epochs =  19 val_loss = 0.455\n",
            "epochs =  20 val_loss = 0.448\n",
            "epochs =  21 val_loss = 0.440\n",
            "epochs =  22 val_loss = 0.433\n",
            "epochs =  23 val_loss = 0.427\n",
            "epochs =  24 val_loss = 0.420\n",
            "epochs =  25 val_loss = 0.414\n",
            "epochs =  26 val_loss = 0.409\n",
            "epochs =  27 val_loss = 0.403\n",
            "epochs =  28 val_loss = 0.400\n",
            "epochs =  29 val_loss = 0.394\n",
            "epochs =  30 val_loss = 0.390\n",
            "epochs =  31 val_loss = 0.385\n",
            "epochs =  32 val_loss = 0.381\n",
            "epochs =  33 val_loss = 0.378\n",
            "epochs =  34 val_loss = 0.375\n",
            "epochs =  35 val_loss = 0.371\n",
            "epochs =  36 val_loss = 0.368\n",
            "epochs =  37 val_loss = 0.364\n",
            "epochs =  38 val_loss = 0.362\n",
            "epochs =  39 val_loss = 0.358\n",
            "epochs =  40 val_loss = 0.356\n",
            "epochs =  41 val_loss = 0.353\n",
            "epochs =  42 val_loss = 0.351\n",
            "epochs =  43 val_loss = 0.348\n",
            "epochs =  44 val_loss = 0.345\n",
            "epochs =  45 val_loss = 0.344\n",
            "epochs =  46 val_loss = 0.341\n",
            "epochs =  47 val_loss = 0.339\n",
            "epochs =  48 val_loss = 0.336\n",
            "epochs =  49 val_loss = 0.334\n",
            "epochs =  50 val_loss = 0.332\n",
            "epochs =  51 val_loss = 0.330\n",
            "epochs =  52 val_loss = 0.328\n",
            "epochs =  53 val_loss = 0.327\n",
            "epochs =  54 val_loss = 0.325\n",
            "epochs =  55 val_loss = 0.323\n",
            "epochs =  56 val_loss = 0.322\n",
            "epochs =  57 val_loss = 0.320\n",
            "epochs =  58 val_loss = 0.319\n",
            "epochs =  59 val_loss = 0.317\n",
            "epochs =  60 val_loss = 0.315\n",
            "epochs =  61 val_loss = 0.314\n",
            "epochs =  62 val_loss = 0.312\n",
            "epochs =  63 val_loss = 0.311\n",
            "epochs =  64 val_loss = 0.309\n",
            "epochs =  65 val_loss = 0.308\n",
            "epochs =  66 val_loss = 0.307\n",
            "epochs =  67 val_loss = 0.305\n",
            "epochs =  68 val_loss = 0.304\n",
            "epochs =  69 val_loss = 0.303\n",
            "epochs =  70 val_loss = 0.301\n",
            "epochs =  71 val_loss = 0.300\n",
            "epochs =  72 val_loss = 0.299\n",
            "epochs =  73 val_loss = 0.298\n",
            "epochs =  74 val_loss = 0.297\n",
            "epochs =  75 val_loss = 0.296\n",
            "epochs =  76 val_loss = 0.295\n",
            "epochs =  77 val_loss = 0.294\n",
            "epochs =  78 val_loss = 0.293\n",
            "epochs =  79 val_loss = 0.292\n",
            "epochs =  80 val_loss = 0.291\n",
            "epochs =  81 val_loss = 0.291\n",
            "epochs =  82 val_loss = 0.289\n",
            "epochs =  83 val_loss = 0.288\n",
            "epochs =  84 val_loss = 0.287\n",
            "epochs =  85 val_loss = 0.286\n",
            "epochs =  86 val_loss = 0.285\n",
            "epochs =  87 val_loss = 0.284\n",
            "epochs =  88 val_loss = 0.284\n",
            "epochs =  89 val_loss = 0.282\n",
            "epochs =  90 val_loss = 0.282\n",
            "epochs =  91 val_loss = 0.281\n",
            "epochs =  92 val_loss = 0.280\n",
            "epochs =  93 val_loss = 0.279\n",
            "epochs =  94 val_loss = 0.278\n",
            "epochs =  95 val_loss = 0.278\n",
            "epochs =  96 val_loss = 0.277\n",
            "epochs =  97 val_loss = 0.276\n",
            "epochs =  98 val_loss = 0.275\n",
            "epochs =  99 val_loss = 0.275\n",
            "epochs =  100 val_loss = 0.275\n",
            "epochs =  101 val_loss = 0.273\n",
            "epochs =  102 val_loss = 0.273\n",
            "epochs =  103 val_loss = 0.272\n",
            "epochs =  104 val_loss = 0.272\n",
            "epochs =  105 val_loss = 0.271\n",
            "epochs =  106 val_loss = 0.270\n",
            "epochs =  107 val_loss = 0.269\n",
            "epochs =  108 val_loss = 0.269\n",
            "epochs =  109 val_loss = 0.268\n",
            "epochs =  110 val_loss = 0.267\n",
            "epochs =  111 val_loss = 0.267\n",
            "epochs =  112 val_loss = 0.267\n",
            "epochs =  113 val_loss = 0.266\n",
            "epochs =  114 val_loss = 0.265\n",
            "epochs =  115 val_loss = 0.264\n",
            "epochs =  116 val_loss = 0.264\n",
            "epochs =  117 val_loss = 0.263\n",
            "epochs =  118 val_loss = 0.262\n",
            "epochs =  119 val_loss = 0.262\n",
            "epochs =  120 val_loss = 0.262\n",
            "epochs =  121 val_loss = 0.262\n",
            "epochs =  122 val_loss = 0.261\n",
            "epochs =  123 val_loss = 0.260\n",
            "epochs =  124 val_loss = 0.259\n",
            "epochs =  125 val_loss = 0.259\n",
            "epochs =  126 val_loss = 0.258\n",
            "epochs =  127 val_loss = 0.258\n",
            "epochs =  128 val_loss = 0.258\n",
            "epochs =  129 val_loss = 0.257\n",
            "epochs =  130 val_loss = 0.257\n",
            "epochs =  131 val_loss = 0.257\n",
            "epochs =  132 val_loss = 0.256\n",
            "epochs =  133 val_loss = 0.255\n",
            "epochs =  134 val_loss = 0.255\n",
            "epochs =  135 val_loss = 0.254\n",
            "epochs =  136 val_loss = 0.254\n",
            "epochs =  137 val_loss = 0.254\n",
            "epochs =  138 val_loss = 0.253\n",
            "epochs =  139 val_loss = 0.253\n",
            "epochs =  140 val_loss = 0.253\n",
            "epochs =  141 val_loss = 0.252\n",
            "epochs =  142 val_loss = 0.251\n",
            "epochs =  143 val_loss = 0.250\n",
            "epochs =  144 val_loss = 0.250\n",
            "epochs =  145 val_loss = 0.250\n",
            "epochs =  146 val_loss = 0.250\n",
            "epochs =  147 val_loss = 0.249\n",
            "epochs =  148 val_loss = 0.249\n",
            "epochs =  149 val_loss = 0.249\n",
            "epochs =  150 val_loss = 0.248\n",
            "epochs =  151 val_loss = 0.247\n",
            "epochs =  152 val_loss = 0.248\n",
            "epochs =  153 val_loss = 0.247\n",
            "epochs =  154 val_loss = 0.246\n",
            "epochs =  155 val_loss = 0.247\n",
            "epochs =  156 val_loss = 0.246\n",
            "epochs =  157 val_loss = 0.245\n",
            "epochs =  158 val_loss = 0.245\n",
            "epochs =  159 val_loss = 0.245\n",
            "epochs =  160 val_loss = 0.244\n",
            "epochs =  161 val_loss = 0.244\n",
            "epochs =  162 val_loss = 0.243\n",
            "epochs =  163 val_loss = 0.243\n",
            "epochs =  164 val_loss = 0.243\n",
            "epochs =  165 val_loss = 0.243\n",
            "epochs =  166 val_loss = 0.242\n",
            "epochs =  167 val_loss = 0.242\n",
            "epochs =  168 val_loss = 0.242\n",
            "epochs =  169 val_loss = 0.241\n",
            "epochs =  170 val_loss = 0.241\n",
            "epochs =  171 val_loss = 0.241\n",
            "epochs =  172 val_loss = 0.240\n",
            "epochs =  173 val_loss = 0.240\n",
            "epochs =  174 val_loss = 0.240\n",
            "epochs =  175 val_loss = 0.239\n",
            "epochs =  176 val_loss = 0.240\n",
            "epochs =  177 val_loss = 0.239\n",
            "epochs =  178 val_loss = 0.238\n",
            "epochs =  179 val_loss = 0.238\n",
            "epochs =  180 val_loss = 0.238\n",
            "epochs =  181 val_loss = 0.237\n",
            "epochs =  182 val_loss = 0.237\n",
            "epochs =  183 val_loss = 0.237\n",
            "epochs =  184 val_loss = 0.237\n",
            "epochs =  185 val_loss = 0.236\n",
            "epochs =  186 val_loss = 0.236\n",
            "epochs =  187 val_loss = 0.236\n",
            "epochs =  188 val_loss = 0.236\n",
            "epochs =  189 val_loss = 0.236\n",
            "epochs =  190 val_loss = 0.235\n",
            "epochs =  191 val_loss = 0.235\n",
            "epochs =  192 val_loss = 0.234\n",
            "epochs =  193 val_loss = 0.235\n",
            "epochs =  194 val_loss = 0.234\n",
            "epochs =  195 val_loss = 0.234\n",
            "epochs =  196 val_loss = 0.234\n",
            "epochs =  197 val_loss = 0.233\n",
            "epochs =  198 val_loss = 0.233\n",
            "epochs =  199 val_loss = 0.233\n",
            "epochs =  200 val_loss = 0.232\n"
          ]
        }
      ]
    },
    {
      "cell_type": "markdown",
      "source": [
        "**3.1.3 학습곡선 확인**"
      ],
      "metadata": {
        "id": "hX8tgwstfswa"
      }
    },
    {
      "cell_type": "code",
      "source": [
        "plt.plot(model1.losses)\n",
        "plt.plot(model1.val_losses)\n",
        "plt.ylabel('loss')\n",
        "plt.xlabel('iteration')\n",
        "plt.legend(['train_loss', 'val_loss'])\n",
        "plt.show()"
      ],
      "metadata": {
        "colab": {
          "base_uri": "https://localhost:8080/",
          "height": 351
        },
        "id": "TUCNYcwGKk7L",
        "outputId": "ad43ae85-ed31-4588-bc2a-366f1933a2b0"
      },
      "execution_count": null,
      "outputs": [
        {
          "output_type": "execute_result",
          "data": {
            "text/plain": [
              "[<matplotlib.lines.Line2D at 0x7f979198bd10>]"
            ]
          },
          "metadata": {},
          "execution_count": 200
        },
        {
          "output_type": "execute_result",
          "data": {
            "text/plain": [
              "[<matplotlib.lines.Line2D at 0x7f97914d5210>]"
            ]
          },
          "metadata": {},
          "execution_count": 200
        },
        {
          "output_type": "execute_result",
          "data": {
            "text/plain": [
              "Text(0, 0.5, 'loss')"
            ]
          },
          "metadata": {},
          "execution_count": 200
        },
        {
          "output_type": "execute_result",
          "data": {
            "text/plain": [
              "Text(0.5, 0, 'iteration')"
            ]
          },
          "metadata": {},
          "execution_count": 200
        },
        {
          "output_type": "execute_result",
          "data": {
            "text/plain": [
              "<matplotlib.legend.Legend at 0x7f9793029550>"
            ]
          },
          "metadata": {},
          "execution_count": 200
        },
        {
          "output_type": "stream",
          "name": "stderr",
          "text": [
            "WARNING:matplotlib.font_manager:findfont: Font family ['Malgun Gothic'] not found. Falling back to DejaVu Sans.\n"
          ]
        },
        {
          "output_type": "display_data",
          "data": {
            "text/plain": [
              "<Figure size 432x288 with 1 Axes>"
            ],
            "image/png": "[encoded data removed]"
          },
          "metadata": {
            "needs_background": "light"
          }
        }
      ]
    },
    {
      "cell_type": "markdown",
      "source": [
        "\n",
        "\n",
        "*   훈련 손실과 검증 손실 초반에 빠르게 감소하다가 점점 일정 값에 수렴하는 모습\n",
        "\n"
      ],
      "metadata": {
        "id": "RuMiYpmwT1pT"
      }
    },
    {
      "cell_type": "code",
      "source": [
        "model1.score(x_test,y_test)"
      ],
      "metadata": {
        "colab": {
          "base_uri": "https://localhost:8080/"
        },
        "id": "b_1yrhHiKpyJ",
        "outputId": "8aed0edc-9278-4118-f0b9-302a0d19dcd5"
      },
      "execution_count": null,
      "outputs": [
        {
          "output_type": "execute_result",
          "data": {
            "text/plain": [
              "0.9374"
            ]
          },
          "metadata": {},
          "execution_count": 201
        }
      ]
    },
    {
      "cell_type": "markdown",
      "source": [
        "\n",
        "\n",
        "*   다중 분류 코드로 모델 학습한 결과 정확도 0.9374\n",
        "*   이미지 분류에 적합한 합성곱 신경망을 통해 정확도 향상 시도\n",
        "\n"
      ],
      "metadata": {
        "id": "myeDnHtTfz46"
      }
    },
    {
      "cell_type": "markdown",
      "source": [
        "# **3.2 합성곱 (CNN) 신경망**\n",
        "\n",
        "*   Keras? 사용자가 Tensorflow 를 편리하게 사용할 수 있도록 제공하는 패키지\n",
        "*   Keras 로 합성곱 신경망 구현\n"
      ],
      "metadata": {
        "id": "6CYz_GWELK4A"
      }
    },
    {
      "cell_type": "markdown",
      "source": [
        "\n",
        "\n",
        "**3.2.0 훈련/검증 데이터 설정**"
      ],
      "metadata": {
        "id": "fTiFsMz9ez7r"
      }
    },
    {
      "cell_type": "code",
      "source": [
        "train_x, test_x = train_x.reshape(-1, 28, 28, 1), test_x.reshape(-1, 28, 28, 1) # 합성곱 신경망을 위한 깊이 추가 (풍부한 특징 추출)"
      ],
      "metadata": {
        "id": "qptAeneSUFoo"
      },
      "execution_count": null,
      "outputs": []
    },
    {
      "cell_type": "code",
      "source": [
        "train_x.shape"
      ],
      "metadata": {
        "colab": {
          "base_uri": "https://localhost:8080/"
        },
        "id": "HAQQjMAvV6G9",
        "outputId": "55dd147d-3740-4c4d-8e8e-f0481703597f"
      },
      "execution_count": null,
      "outputs": [
        {
          "output_type": "execute_result",
          "data": {
            "text/plain": [
              "(60000, 28, 28, 1)"
            ]
          },
          "metadata": {},
          "execution_count": 66
        }
      ]
    },
    {
      "cell_type": "code",
      "source": [
        "x_train, x_val, y_train, y_val = train_test_split(train_x, train_y, test_size=0.2, random_state=42)"
      ],
      "metadata": {
        "id": "30cubxIpaaFa"
      },
      "execution_count": null,
      "outputs": []
    },
    {
      "cell_type": "code",
      "source": [
        "print('<training set>') \n",
        "x_train.shape, x_val.shape\n",
        "print(\"\\n\\n<validation set>\")\n",
        "y_train.shape, y_val.shape\n",
        "print(\"\\n\\n<test set>\")\n",
        "test_x.shape, test_y.shape"
      ],
      "metadata": {
        "colab": {
          "base_uri": "https://localhost:8080/"
        },
        "id": "5B5cdbiYabR9",
        "outputId": "5f8bed9f-2704-4fd7-8d15-0fd149304ff6"
      },
      "execution_count": null,
      "outputs": [
        {
          "output_type": "stream",
          "name": "stdout",
          "text": [
            "<training set>\n"
          ]
        },
        {
          "output_type": "execute_result",
          "data": {
            "text/plain": [
              "((48000, 28, 28, 1), (12000, 28, 28, 1))"
            ]
          },
          "metadata": {},
          "execution_count": 68
        },
        {
          "output_type": "stream",
          "name": "stdout",
          "text": [
            "\n",
            "\n",
            "<validation set>\n"
          ]
        },
        {
          "output_type": "execute_result",
          "data": {
            "text/plain": [
              "((48000,), (12000,))"
            ]
          },
          "metadata": {},
          "execution_count": 68
        },
        {
          "output_type": "stream",
          "name": "stdout",
          "text": [
            "\n",
            "\n",
            "<test set>\n"
          ]
        },
        {
          "output_type": "execute_result",
          "data": {
            "text/plain": [
              "((10000, 28, 28, 1), (10000,))"
            ]
          },
          "metadata": {},
          "execution_count": 68
        }
      ]
    },
    {
      "cell_type": "markdown",
      "source": [
        "**3.2.1 모델 생성**\n",
        "\n",
        "\n",
        "\n"
      ],
      "metadata": {
        "id": "1uh7bM-JeDkh"
      }
    },
    {
      "cell_type": "markdown",
      "source": [
        "\n",
        "\n",
        "# **Conv1 모델**\n",
        "\n",
        "\n",
        "\n",
        "\n",
        "\n",
        "*  Convolution 2D 를 한번만 쌓음\n",
        "*   target 원핫 인코딩 진행하지 않고 정수 형태 그대로 진행 - 손실함수 'sparse_categorical_crossentropy'"
      ],
      "metadata": {
        "id": "n0wW9YzVjR3k"
      }
    },
    {
      "cell_type": "markdown",
      "source": [
        "**1. 모델 레이어 추가**"
      ],
      "metadata": {
        "id": "kwiAYWVbjohb"
      }
    },
    {
      "cell_type": "code",
      "source": [
        "from tensorflow.keras import Sequential\n",
        "from tensorflow import keras\n",
        "from tensorflow.keras.layers import Conv2D, MaxPooling2D, Dense, Flatten, Dropout\n",
        "from tensorflow.keras.callbacks import ModelCheckpoint, EarlyStopping"
      ],
      "metadata": {
        "id": "G5gMYVG6LKPO"
      },
      "execution_count": null,
      "outputs": []
    },
    {
      "cell_type": "code",
      "source": [
        "conv1 = Sequential()\n",
        "conv1.add(Conv2D(32, (3,3), activation='relu',padding='same', input_shape=(28, 28, 1)))\n",
        "conv1.add(MaxPooling2D(pool_size=(2, 2), strides=None))\n",
        "conv1.add(Flatten())\n",
        "conv1.add(Dense(32, activation='relu')) # 은닉층: 렐루 활성화함수\n",
        "conv1.add(Dropout(0.2))\n",
        "conv1.add(Dense(32, activation='relu'))\n",
        "conv1.add(Dropout(0.2))\n",
        "conv1.add(Dense(10, activation='softmax')) # 출력층: 소프트맥스 활성화함수"
      ],
      "metadata": {
        "id": "Vrdm3qVwLKRa"
      },
      "execution_count": null,
      "outputs": []
    },
    {
      "cell_type": "markdown",
      "source": [
        "\n",
        "\n",
        "*   **Con2D** - filter (픽셀을 어떻게 뭉쳐서 볼 것인지 결정하는 윈도우, 이미지에서 특징 분리해내는 기능, 출력차원의 깊이 결정): 32개 kernel_size (합성곱에 사용되는 필터의 크기): (3,3) 활성화 함수: relu 입력 데이터 사이즈: 28x28=784개 Padding (출력 데이터의 공간크기 조절 기능): same padding \n",
        "\n",
        "\n",
        "     *   same padding (출력 배열의 길이를 원본 배열과 동일하게 함)\n",
        "     *   full padding (원본 배열 원소의 연산 참여도를 동일하게 함)\n",
        "     *   valid padding (원본 입력 배열(x)에 가중치(w)를 그대로 적용)\n",
        "\n",
        "*   **MaxPooling2D** (지정한 kernel만큼 훑으면서 가장 큰 값만 남기는 것으로, 각각의 구역에서 최댓값을 찾는 방법) - pool_size: (2,2), stride (필터 이동 간격 조절): None\n",
        "\n",
        "*   **Flatten** - 1차원 텐서(샘플 차원 포함)로 변환\n",
        "\n",
        "*   **Dropout** - 뉴런들 중 일부 뉴런이 연산에서 무작위로 제외, 오버피팅 방지 위해 무작위로 이전 레이어 출력의 20% 를 제거\n",
        "\n",
        "*   **Dense** \n",
        "    1. 히든 레이어 노드 수 32개, 활성화 함수 relu\n",
        "    2. 출력 레이어 노드 개수 10개, 활성화 함수 추가 softmax (출력값 간의 편차가 커지기 때문에 분류가 쉬워짐)\n",
        "\n"
      ],
      "metadata": {
        "id": "6dpr2mm0aXH0"
      }
    },
    {
      "cell_type": "code",
      "source": [
        "conv1.summary()"
      ],
      "metadata": {
        "colab": {
          "base_uri": "https://localhost:8080/"
        },
        "id": "vmoQQwR9LKUD",
        "outputId": "cafff33c-0d2e-4318-900b-646b0a001898"
      },
      "execution_count": null,
      "outputs": [
        {
          "output_type": "stream",
          "name": "stdout",
          "text": [
            "Model: \"sequential_12\"\n",
            "_________________________________________________________________\n",
            " Layer (type)                Output Shape              Param #   \n",
            "=================================================================\n",
            " conv2d_24 (Conv2D)          (None, 28, 28, 32)        320       \n",
            "                                                                 \n",
            " max_pooling2d_22 (MaxPoolin  (None, 14, 14, 32)       0         \n",
            " g2D)                                                            \n",
            "                                                                 \n",
            " flatten_12 (Flatten)        (None, 6272)              0         \n",
            "                                                                 \n",
            " dense_22 (Dense)            (None, 32)                200736    \n",
            "                                                                 \n",
            " dropout_22 (Dropout)        (None, 32)                0         \n",
            "                                                                 \n",
            " dense_23 (Dense)            (None, 32)                1056      \n",
            "                                                                 \n",
            " dropout_23 (Dropout)        (None, 32)                0         \n",
            "                                                                 \n",
            " dense_24 (Dense)            (None, 10)                330       \n",
            "                                                                 \n",
            "=================================================================\n",
            "Total params: 202,442\n",
            "Trainable params: 202,442\n",
            "Non-trainable params: 0\n",
            "_________________________________________________________________\n"
          ]
        }
      ]
    },
    {
      "cell_type": "code",
      "source": [
        "from keras.utils import plot_model\n",
        "plot_model(conv1, show_shapes=True, to_file='model.png')"
      ],
      "metadata": {
        "colab": {
          "base_uri": "https://localhost:8080/",
          "height": 976
        },
        "id": "WKSLMve5sSPe",
        "outputId": "c4917ee4-59d2-4bd4-ac72-949d853ef64d"
      },
      "execution_count": null,
      "outputs": [
        {
          "output_type": "execute_result",
          "data": {
            "image/png": "[encoded data removed]",
            "text/plain": [
              "<IPython.core.display.Image object>"
            ]
          },
          "metadata": {},
          "execution_count": 212
        }
      ]
    },
    {
      "cell_type": "markdown",
      "source": [
        "**2. 최적화 알고리즘과 손실함수 선택**"
      ],
      "metadata": {
        "id": "F4yxGhBXd9kl"
      }
    },
    {
      "cell_type": "code",
      "source": [
        "conv1.compile(optimizer='adam',loss='sparse_categorical_crossentropy',metrics=['accuracy'])"
      ],
      "metadata": {
        "id": "3dVIX7pcLKWa"
      },
      "execution_count": null,
      "outputs": []
    },
    {
      "cell_type": "markdown",
      "source": [
        "최적화 알고리즘: Adam (adaptive moment estimation)\n",
        "\n",
        "\n",
        "\n",
        "손실함수 종류\n",
        "    \n",
        "  1.   categorical_crossentropy: 모델 출력 one-hot 인코딩이 되어 있는 경우\n",
        "  2. **sparse_categorical_crossentropy**: 모델 출력 정수인 경우\n",
        "\n",
        "metrics: 모델 평가 위해 사용, 정확도로 설정"
      ],
      "metadata": {
        "id": "dbAWGHS6eSem"
      }
    },
    {
      "cell_type": "markdown",
      "source": [
        "**3. Checkpoint 와 EarlyStopping**\n",
        "\n",
        "\n",
        "*   Checkpoint - 가장 best model을 로드하여 학습을 재게\n",
        "*   EarlyStopping - 모델의 성능 지표가 설정한 에포크동안 개선되지 않을 때 조기 종료 실행\n",
        "\n"
      ],
      "metadata": {
        "id": "QafLmw1Um2A9"
      }
    },
    {
      "cell_type": "code",
      "source": [
        "from tensorflow.keras.callbacks import ModelCheckpoint, EarlyStopping"
      ],
      "metadata": {
        "id": "k-G-aUb5g64C"
      },
      "execution_count": null,
      "outputs": []
    },
    {
      "cell_type": "code",
      "source": [
        "# 최고 성능 모델 저장 (검증 세트 손실이 낮아질 때 갱신)\n",
        "checkpoint = ModelCheckpoint('best', monitor='val_loss', save_best_only=True, mode='auto')\n",
        "# 10번의 에포크 이상 검증 세트에서 손실이 감소하지 않으면 학습 자동 중단\n",
        "early_stop = EarlyStopping(monitor='val_loss',patience=10)"
      ],
      "metadata": {
        "id": "eiduCzBCeemO"
      },
      "execution_count": null,
      "outputs": []
    },
    {
      "cell_type": "markdown",
      "source": [
        "**4. 모델 훈련 & 기록**\n",
        "\n",
        "\n",
        "*   학습 데이터셋 사용하여 모델 30번 반복 훈련\n",
        "*   테스트 데이터셋 사용하여 모델 평가\n",
        "\n",
        "\n",
        "\n"
      ],
      "metadata": {
        "id": "HzjvVLBveesJ"
      }
    },
    {
      "cell_type": "code",
      "source": [
        "history1 = conv1.fit(train_x, train_y,\n",
        "                    validation_data=(test_x, test_y), # 검증데이터 세트 설정\n",
        "                    callbacks=[checkpoint, early_stop], # 체크포인트, 조기종료 \n",
        "                    epochs=30) # 에포크 총 30회 설정"
      ],
      "metadata": {
        "colab": {
          "base_uri": "https://localhost:8080/"
        },
        "id": "J3cT0AVILKZQ",
        "outputId": "a47712f8-80d3-41d5-e1d1-c191b7bad108"
      },
      "execution_count": null,
      "outputs": [
        {
          "output_type": "stream",
          "name": "stdout",
          "text": [
            "Epoch 1/30\n",
            "1873/1875 [============================>.] - ETA: 0s - loss: 0.4226 - accuracy: 0.8683"
          ]
        },
        {
          "output_type": "stream",
          "name": "stderr",
          "text": [
            "WARNING:absl:Found untraced functions such as _jit_compiled_convolution_op while saving (showing 1 of 1). These functions will not be directly callable after loading.\n"
          ]
        },
        {
          "output_type": "stream",
          "name": "stdout",
          "text": [
            "\b\b\b\b\b\b\b\b\b\b\b\b\b\b\b\b\b\b\b\b\b\b\b\b\b\b\b\b\b\b\b\b\b\b\b\b\b\b\b\b\b\b\b\b\b\b\b\b\b\b\b\b\b\b\b\b\b\b\b\b\b\b\b\b\b\b\b\b\b\b\b\b\b\b\b\b\b\b\b\b\b\b\b\b\b\b\r1875/1875 [==============================] - 57s 30ms/step - loss: 0.4224 - accuracy: 0.8684 - val_loss: 0.0822 - val_accuracy: 0.9744\n",
            "Epoch 2/30\n",
            "1873/1875 [============================>.] - ETA: 0s - loss: 0.1692 - accuracy: 0.9509"
          ]
        },
        {
          "output_type": "stream",
          "name": "stderr",
          "text": [
            "WARNING:absl:Found untraced functions such as _jit_compiled_convolution_op while saving (showing 1 of 1). These functions will not be directly callable after loading.\n"
          ]
        },
        {
          "output_type": "stream",
          "name": "stdout",
          "text": [
            "\b\b\b\b\b\b\b\b\b\b\b\b\b\b\b\b\b\b\b\b\b\b\b\b\b\b\b\b\b\b\b\b\b\b\b\b\b\b\b\b\b\b\b\b\b\b\b\b\b\b\b\b\b\b\b\b\b\b\b\b\b\b\b\b\b\b\b\b\b\b\b\b\b\b\b\b\b\b\b\b\b\b\b\b\b\b\r1875/1875 [==============================] - 38s 21ms/step - loss: 0.1691 - accuracy: 0.9509 - val_loss: 0.0582 - val_accuracy: 0.9808\n",
            "Epoch 3/30\n",
            "1873/1875 [============================>.] - ETA: 0s - loss: 0.1288 - accuracy: 0.9623"
          ]
        },
        {
          "output_type": "stream",
          "name": "stderr",
          "text": [
            "WARNING:absl:Found untraced functions such as _jit_compiled_convolution_op while saving (showing 1 of 1). These functions will not be directly callable after loading.\n"
          ]
        },
        {
          "output_type": "stream",
          "name": "stdout",
          "text": [
            "\b\b\b\b\b\b\b\b\b\b\b\b\b\b\b\b\b\b\b\b\b\b\b\b\b\b\b\b\b\b\b\b\b\b\b\b\b\b\b\b\b\b\b\b\b\b\b\b\b\b\b\b\b\b\b\b\b\b\b\b\b\b\b\b\b\b\b\b\b\b\b\b\b\b\b\b\b\b\b\b\b\b\b\b\b\b\r1875/1875 [==============================] - 37s 20ms/step - loss: 0.1287 - accuracy: 0.9623 - val_loss: 0.0487 - val_accuracy: 0.9837\n",
            "Epoch 4/30\n",
            "1874/1875 [============================>.] - ETA: 0s - loss: 0.1072 - accuracy: 0.9685"
          ]
        },
        {
          "output_type": "stream",
          "name": "stderr",
          "text": [
            "WARNING:absl:Found untraced functions such as _jit_compiled_convolution_op while saving (showing 1 of 1). These functions will not be directly callable after loading.\n"
          ]
        },
        {
          "output_type": "stream",
          "name": "stdout",
          "text": [
            "\b\b\b\b\b\b\b\b\b\b\b\b\b\b\b\b\b\b\b\b\b\b\b\b\b\b\b\b\b\b\b\b\b\b\b\b\b\b\b\b\b\b\b\b\b\b\b\b\b\b\b\b\b\b\b\b\b\b\b\b\b\b\b\b\b\b\b\b\b\b\b\b\b\b\b\b\b\b\b\b\b\b\b\b\b\b\r1875/1875 [==============================] - 38s 20ms/step - loss: 0.1073 - accuracy: 0.9685 - val_loss: 0.0368 - val_accuracy: 0.9880\n",
            "Epoch 5/30\n",
            "1875/1875 [==============================] - 36s 19ms/step - loss: 0.0912 - accuracy: 0.9729 - val_loss: 0.0390 - val_accuracy: 0.9862\n",
            "Epoch 6/30\n",
            "1875/1875 [==============================] - 36s 19ms/step - loss: 0.0823 - accuracy: 0.9750 - val_loss: 0.0409 - val_accuracy: 0.9868\n",
            "Epoch 7/30\n",
            "1875/1875 [==============================] - 36s 19ms/step - loss: 0.0722 - accuracy: 0.9774 - val_loss: 0.0414 - val_accuracy: 0.9872\n",
            "Epoch 8/30\n",
            "1875/1875 [==============================] - ETA: 0s - loss: 0.0650 - accuracy: 0.9794"
          ]
        },
        {
          "output_type": "stream",
          "name": "stderr",
          "text": [
            "WARNING:absl:Found untraced functions such as _jit_compiled_convolution_op while saving (showing 1 of 1). These functions will not be directly callable after loading.\n"
          ]
        },
        {
          "output_type": "stream",
          "name": "stdout",
          "text": [
            "\b\b\b\b\b\b\b\b\b\b\b\b\b\b\b\b\b\b\b\b\b\b\b\b\b\b\b\b\b\b\b\b\b\b\b\b\b\b\b\b\b\b\b\b\b\b\b\b\b\b\b\b\b\b\b\b\b\b\b\b\b\b\b\b\b\b\b\b\b\b\b\b\b\b\b\b\b\b\b\b\b\b\b\b\b\b\r1875/1875 [==============================] - 38s 20ms/step - loss: 0.0650 - accuracy: 0.9794 - val_loss: 0.0359 - val_accuracy: 0.9885\n",
            "Epoch 9/30\n",
            "1875/1875 [==============================] - 36s 19ms/step - loss: 0.0617 - accuracy: 0.9807 - val_loss: 0.0426 - val_accuracy: 0.9874\n",
            "Epoch 10/30\n",
            "1875/1875 [==============================] - 35s 19ms/step - loss: 0.0548 - accuracy: 0.9827 - val_loss: 0.0470 - val_accuracy: 0.9856\n",
            "Epoch 11/30\n",
            "1875/1875 [==============================] - 37s 20ms/step - loss: 0.0525 - accuracy: 0.9830 - val_loss: 0.0441 - val_accuracy: 0.9874\n",
            "Epoch 12/30\n",
            "1875/1875 [==============================] - 44s 23ms/step - loss: 0.0493 - accuracy: 0.9838 - val_loss: 0.0388 - val_accuracy: 0.9879\n",
            "Epoch 13/30\n",
            "1875/1875 [==============================] - 35s 19ms/step - loss: 0.0462 - accuracy: 0.9850 - val_loss: 0.0409 - val_accuracy: 0.9888\n",
            "Epoch 14/30\n",
            "1875/1875 [==============================] - 38s 21ms/step - loss: 0.0453 - accuracy: 0.9852 - val_loss: 0.0389 - val_accuracy: 0.9890\n",
            "Epoch 15/30\n",
            "1875/1875 [==============================] - 37s 20ms/step - loss: 0.0414 - accuracy: 0.9865 - val_loss: 0.0374 - val_accuracy: 0.9889\n",
            "Epoch 16/30\n",
            "1875/1875 [==============================] - 35s 19ms/step - loss: 0.0412 - accuracy: 0.9865 - val_loss: 0.0424 - val_accuracy: 0.9882\n",
            "Epoch 17/30\n",
            "1875/1875 [==============================] - 37s 20ms/step - loss: 0.0370 - accuracy: 0.9883 - val_loss: 0.0431 - val_accuracy: 0.9878\n",
            "Epoch 18/30\n",
            "1875/1875 [==============================] - 35s 19ms/step - loss: 0.0371 - accuracy: 0.9878 - val_loss: 0.0447 - val_accuracy: 0.9885\n"
          ]
        }
      ]
    },
    {
      "cell_type": "markdown",
      "source": [
        "**5. 모델 정확도 평가**"
      ],
      "metadata": {
        "id": "4C2kbU_te-qH"
      }
    },
    {
      "cell_type": "code",
      "source": [
        "plt.plot(history1.history['loss'])\n",
        "plt.title(\"Loss\")\n",
        "plt.show()"
      ],
      "metadata": {
        "colab": {
          "base_uri": "https://localhost:8080/",
          "height": 300
        },
        "id": "dTe0HVHeecrU",
        "outputId": "cb693595-5ccb-4668-c26d-5ba2bee684c3"
      },
      "execution_count": null,
      "outputs": [
        {
          "output_type": "execute_result",
          "data": {
            "text/plain": [
              "[<matplotlib.lines.Line2D at 0x7f97912fd250>]"
            ]
          },
          "metadata": {},
          "execution_count": 216
        },
        {
          "output_type": "execute_result",
          "data": {
            "text/plain": [
              "Text(0.5, 1.0, 'Loss')"
            ]
          },
          "metadata": {},
          "execution_count": 216
        },
        {
          "output_type": "display_data",
          "data": {
            "text/plain": [
              "<Figure size 432x288 with 1 Axes>"
            ],
            "image/png": "[encoded data removed]"
          },
          "metadata": {
            "needs_background": "light"
          }
        }
      ]
    },
    {
      "cell_type": "code",
      "source": [
        "plt.plot(history1.history['accuracy'])\n",
        "plt.title(\"Accuracy\")\n",
        "plt.show()"
      ],
      "metadata": {
        "colab": {
          "base_uri": "https://localhost:8080/",
          "height": 300
        },
        "id": "VEwMyU_WQ9zK",
        "outputId": "316db873-7d23-4199-c8fa-848b5f00bb1f"
      },
      "execution_count": null,
      "outputs": [
        {
          "output_type": "execute_result",
          "data": {
            "text/plain": [
              "[<matplotlib.lines.Line2D at 0x7f979143f7d0>]"
            ]
          },
          "metadata": {},
          "execution_count": 217
        },
        {
          "output_type": "execute_result",
          "data": {
            "text/plain": [
              "Text(0.5, 1.0, 'Accuracy')"
            ]
          },
          "metadata": {},
          "execution_count": 217
        },
        {
          "output_type": "display_data",
          "data": {
            "text/plain": [
              "<Figure size 432x288 with 1 Axes>"
            ],
            "image/png": "[encoded data removed]"
          },
          "metadata": {
            "needs_background": "light"
          }
        }
      ]
    },
    {
      "cell_type": "markdown",
      "source": [
        "\n",
        "\n",
        "*   에포크 진행할수록 손실은 작아지고 정확도는 높아짐\n",
        "\n"
      ],
      "metadata": {
        "id": "RK7eV0qbgn0A"
      }
    },
    {
      "cell_type": "markdown",
      "source": [
        "**6. 가장 best 신경망 모델 호출 & 예측 확인**"
      ],
      "metadata": {
        "id": "KN14WkFRhNwR"
      }
    },
    {
      "cell_type": "code",
      "source": [
        "best_conv1 = keras.models.load_model('best') # 예측을 위해 저장해 두었던 best 모델 호출"
      ],
      "metadata": {
        "id": "_V_E64VIecty"
      },
      "execution_count": null,
      "outputs": []
    },
    {
      "cell_type": "code",
      "source": [
        "prediction = best_conv1.predict(test_x) # 숫자 손글씨 예측"
      ],
      "metadata": {
        "colab": {
          "base_uri": "https://localhost:8080/"
        },
        "id": "YKLXhvmBecwh",
        "outputId": "f50a337d-afb3-4753-901a-348639ccd076"
      },
      "execution_count": null,
      "outputs": [
        {
          "output_type": "stream",
          "name": "stdout",
          "text": [
            "313/313 [==============================] - 2s 8ms/step\n"
          ]
        }
      ]
    },
    {
      "cell_type": "code",
      "source": [
        "prediction"
      ],
      "metadata": {
        "colab": {
          "base_uri": "https://localhost:8080/"
        },
        "id": "dJ1fNM5US49M",
        "outputId": "b2c8e2e1-7888-4cb5-dd75-4f842e532415"
      },
      "execution_count": null,
      "outputs": [
        {
          "output_type": "execute_result",
          "data": {
            "text/plain": [
              "array([[8.59816707e-14, 8.75923245e-09, 2.63136823e-09, ...,\n",
              "        9.99998271e-01, 1.07744135e-11, 9.28897236e-07],\n",
              "       [1.12905220e-10, 6.33470787e-09, 9.99999940e-01, ...,\n",
              "        1.39451051e-09, 1.53428468e-11, 1.16564148e-13],\n",
              "       [2.31612840e-10, 9.99974430e-01, 2.32685966e-06, ...,\n",
              "        4.20293645e-06, 9.56492204e-06, 2.72629599e-08],\n",
              "       ...,\n",
              "       [5.31084135e-14, 1.46252876e-14, 3.08964659e-12, ...,\n",
              "        3.10579895e-09, 3.38192030e-09, 3.93175185e-07],\n",
              "       [2.67709439e-13, 1.91889248e-11, 3.51271512e-18, ...,\n",
              "        5.20588143e-15, 2.58023096e-08, 1.08082954e-09],\n",
              "       [1.49747037e-09, 2.18168684e-14, 8.89442532e-15, ...,\n",
              "        2.15907569e-22, 1.67451556e-11, 4.40648969e-14]], dtype=float32)"
            ]
          },
          "metadata": {},
          "execution_count": 220
        }
      ]
    },
    {
      "cell_type": "code",
      "source": [
        "prediction[0]"
      ],
      "metadata": {
        "colab": {
          "base_uri": "https://localhost:8080/"
        },
        "id": "rLW9pAwpTlLX",
        "outputId": "7b85071f-70ae-4959-fa1e-7a463a1e86a4"
      },
      "execution_count": null,
      "outputs": [
        {
          "output_type": "execute_result",
          "data": {
            "text/plain": [
              "array([8.59816707e-14, 8.75923245e-09, 2.63136823e-09, 7.10565701e-07,\n",
              "       2.93701530e-09, 1.15593339e-13, 7.41476231e-16, 9.99998271e-01,\n",
              "       1.07744135e-11, 9.28897236e-07], dtype=float32)"
            ]
          },
          "metadata": {},
          "execution_count": 221
        }
      ]
    },
    {
      "cell_type": "code",
      "source": [
        "np.argmax(prediction[0])  # 가장 갚이 높은 index "
      ],
      "metadata": {
        "colab": {
          "base_uri": "https://localhost:8080/"
        },
        "id": "G_cd_9wyhV2n",
        "outputId": "9c73bd36-77d3-4163-abf6-3756dc9d4e08"
      },
      "execution_count": null,
      "outputs": [
        {
          "output_type": "execute_result",
          "data": {
            "text/plain": [
              "7"
            ]
          },
          "metadata": {},
          "execution_count": 222
        }
      ]
    },
    {
      "cell_type": "code",
      "source": [
        "plt.imshow(test_x[0].reshape(28,28),cmap='gray')"
      ],
      "metadata": {
        "colab": {
          "base_uri": "https://localhost:8080/",
          "height": 284
        },
        "id": "k55fk-vhhXdR",
        "outputId": "220c352e-0121-4d57-9836-6b10c33ef212"
      },
      "execution_count": null,
      "outputs": [
        {
          "output_type": "execute_result",
          "data": {
            "text/plain": [
              "<matplotlib.image.AxesImage at 0x7f978f698110>"
            ]
          },
          "metadata": {},
          "execution_count": 223
        },
        {
          "output_type": "display_data",
          "data": {
            "text/plain": [
              "<Figure size 432x288 with 1 Axes>"
            ],
            "image/png": "[encoded data removed]"
          },
          "metadata": {
            "needs_background": "light"
          }
        }
      ]
    },
    {
      "cell_type": "markdown",
      "source": [
        "\n",
        "\n",
        "*   prediction[0]에서 index 7의 값이 가장 높음\n",
        "*   예측값과 실제 숫자 일치\n",
        "\n"
      ],
      "metadata": {
        "id": "wUJJJsO5UFBQ"
      }
    },
    {
      "cell_type": "code",
      "source": [
        "print(\"예측:\",np.argmax(prediction[50]))\n",
        "print(\"실제:\",plt.imshow(test_x[50].reshape(28,28),cmap='gray'))"
      ],
      "metadata": {
        "colab": {
          "base_uri": "https://localhost:8080/",
          "height": 302
        },
        "id": "VeMvDPnyVisH",
        "outputId": "72debf38-9937-49c9-cc33-72d8a7384cb6"
      },
      "execution_count": null,
      "outputs": [
        {
          "output_type": "stream",
          "name": "stdout",
          "text": [
            "예측: 6\n",
            "실제: AxesImage(54,36;334.8x217.44)\n"
          ]
        },
        {
          "output_type": "display_data",
          "data": {
            "text/plain": [
              "<Figure size 432x288 with 1 Axes>"
            ],
            "image/png": "[encoded data removed]"
          },
          "metadata": {
            "needs_background": "light"
          }
        }
      ]
    },
    {
      "cell_type": "code",
      "source": [
        "print(\"예측:\",np.argmax(prediction[500]))\n",
        "print(\"실제:\",plt.imshow(test_x[500].reshape(28,28),cmap='gray'))"
      ],
      "metadata": {
        "colab": {
          "base_uri": "https://localhost:8080/",
          "height": 302
        },
        "id": "KnOaH46UVfe1",
        "outputId": "03b2ff17-b562-4c5d-bbeb-c52f9b3f4da5"
      },
      "execution_count": null,
      "outputs": [
        {
          "output_type": "stream",
          "name": "stdout",
          "text": [
            "예측: 3\n",
            "실제: AxesImage(54,36;334.8x217.44)\n"
          ]
        },
        {
          "output_type": "display_data",
          "data": {
            "text/plain": [
              "<Figure size 432x288 with 1 Axes>"
            ],
            "image/png": "[encoded data removed]"
          },
          "metadata": {
            "needs_background": "light"
          }
        }
      ]
    },
    {
      "cell_type": "code",
      "source": [
        "number = submission.copy() \n",
        "numberprediction = []\n",
        "for i in range(10000):\n",
        "  numberprediction.append(np.argmax(prediction[i])) \n",
        "\n",
        "number['label'] = numberprediction\n",
        "number['label']                                                                                                                                                                                                                                                                                                                                                                                                                                                                                                                                                                                                                                                                                                                                                                                                                                                                                                                                                                                                                                                                                                                                                                                                                                                                                                                                                                                                   \n",
        "number.to_csv('result_number1.csv',index=False) # 제출 파일 저장"
      ],
      "metadata": {
        "colab": {
          "base_uri": "https://localhost:8080/"
        },
        "id": "OSpnuU9Ohb5D",
        "outputId": "50ee99dc-779f-48c2-9438-769292742a7e"
      },
      "execution_count": null,
      "outputs": [
        {
          "output_type": "execute_result",
          "data": {
            "text/plain": [
              "0       7\n",
              "1       2\n",
              "2       1\n",
              "3       0\n",
              "4       4\n",
              "       ..\n",
              "9995    2\n",
              "9996    3\n",
              "9997    4\n",
              "9998    5\n",
              "9999    6\n",
              "Name: label, Length: 10000, dtype: int64"
            ]
          },
          "metadata": {},
          "execution_count": 226
        }
      ]
    },
    {
      "cell_type": "markdown",
      "source": [
        "# **Conv2 모델**\n",
        "\n",
        "\n",
        "\n",
        "*   Conv2D, MaxPooling 합성곱과 풀링층의 반복 구성\n",
        "*   필터 크기 (4,4): 커널 시야 확장\n",
        "*   target 원핫 인코딩 진행하여 벡터 형태로 - 손실함수 categorical_crossentropy\n",
        "*   callbacks=[checkpoint, early_stop] 적용 X\n",
        "\n",
        "\n"
      ],
      "metadata": {
        "id": "RdI4Nk6pAm4z"
      }
    },
    {
      "cell_type": "markdown",
      "source": [
        "**1. 모델 레이어 추가**"
      ],
      "metadata": {
        "id": "jM1SOtxJj64A"
      }
    },
    {
      "cell_type": "code",
      "source": [
        "conv2 = Sequential()\n",
        "\n",
        "conv2.add(Conv2D(filters=32, kernel_size=(4,4), activation='relu',padding='same', input_shape=(28, 28, 1)))\n",
        "conv2.add(MaxPooling2D(pool_size=(2, 2), strides=None))\n",
        "\n",
        "conv2.add(Conv2D(filters=32, kernel_size=(4,4), activation='relu',padding='same', input_shape=(28, 28, 1)))\n",
        "conv2.add(MaxPooling2D(pool_size=(2, 2), strides=None))\n",
        "conv2.add(Dropout(0.25))\n",
        "\n",
        "conv2.add(Conv2D(filters=32, kernel_size=(4,4), activation='relu',padding='same', input_shape=(28, 28, 1)))\n",
        "conv2.add(MaxPooling2D(pool_size=(2, 2), strides=None))\n",
        "conv2.add(Dropout(0.25))\n",
        "conv2.add(Flatten())\n",
        "\n",
        "conv2.add(Dense(32, activation='relu'))\n",
        "conv2.add(Dropout(0.25))\n",
        "conv2.add(Dense(10, activation='softmax')) # 출력층: 소프트맥스 활성화함수"
      ],
      "metadata": {
        "id": "1oY_AxTTAn8Q"
      },
      "execution_count": null,
      "outputs": []
    },
    {
      "cell_type": "code",
      "source": [
        "conv2.summary()"
      ],
      "metadata": {
        "colab": {
          "base_uri": "https://localhost:8080/"
        },
        "id": "S0GEFKeTAn_L",
        "outputId": "c81fced3-1567-42a1-d4ca-d5b5afdeb071"
      },
      "execution_count": null,
      "outputs": [
        {
          "output_type": "stream",
          "name": "stdout",
          "text": [
            "Model: \"sequential_13\"\n",
            "_________________________________________________________________\n",
            " Layer (type)                Output Shape              Param #   \n",
            "=================================================================\n",
            " conv2d_25 (Conv2D)          (None, 28, 28, 32)        544       \n",
            "                                                                 \n",
            " max_pooling2d_23 (MaxPoolin  (None, 14, 14, 32)       0         \n",
            " g2D)                                                            \n",
            "                                                                 \n",
            " conv2d_26 (Conv2D)          (None, 14, 14, 32)        16416     \n",
            "                                                                 \n",
            " max_pooling2d_24 (MaxPoolin  (None, 7, 7, 32)         0         \n",
            " g2D)                                                            \n",
            "                                                                 \n",
            " dropout_24 (Dropout)        (None, 7, 7, 32)          0         \n",
            "                                                                 \n",
            " conv2d_27 (Conv2D)          (None, 7, 7, 32)          16416     \n",
            "                                                                 \n",
            " max_pooling2d_25 (MaxPoolin  (None, 3, 3, 32)         0         \n",
            " g2D)                                                            \n",
            "                                                                 \n",
            " dropout_25 (Dropout)        (None, 3, 3, 32)          0         \n",
            "                                                                 \n",
            " flatten_13 (Flatten)        (None, 288)               0         \n",
            "                                                                 \n",
            " dense_25 (Dense)            (None, 32)                9248      \n",
            "                                                                 \n",
            " dropout_26 (Dropout)        (None, 32)                0         \n",
            "                                                                 \n",
            " dense_26 (Dense)            (None, 10)                330       \n",
            "                                                                 \n",
            "=================================================================\n",
            "Total params: 42,954\n",
            "Trainable params: 42,954\n",
            "Non-trainable params: 0\n",
            "_________________________________________________________________\n"
          ]
        }
      ]
    },
    {
      "cell_type": "markdown",
      "source": [
        "**2. 최적화 알고리즘과 손실함수 선택**"
      ],
      "metadata": {
        "id": "3XyJZ9m8kSiQ"
      }
    },
    {
      "cell_type": "code",
      "source": [
        "conv2.compile(optimizer='adam',loss='categorical_crossentropy',metrics=['accuracy'])"
      ],
      "metadata": {
        "id": "hPBTkja8AoCH"
      },
      "execution_count": null,
      "outputs": []
    },
    {
      "cell_type": "code",
      "source": [
        "from keras.utils import plot_model\n",
        "plot_model(conv2, show_shapes=True, to_file='model.png')"
      ],
      "metadata": {
        "colab": {
          "base_uri": "https://localhost:8080/",
          "height": 1000
        },
        "id": "mMn7qWE9sZBX",
        "outputId": "b4fe3810-0b99-4e64-e567-1ec7a30b7ef4"
      },
      "execution_count": null,
      "outputs": [
        {
          "output_type": "execute_result",
          "data": {
            "image/png": "[encoded data removed]",
            "text/plain": [
              "<IPython.core.display.Image object>"
            ]
          },
          "metadata": {},
          "execution_count": 230
        }
      ]
    },
    {
      "cell_type": "markdown",
      "source": [
        "**3. target One-hot encoding**"
      ],
      "metadata": {
        "id": "l_EmgjJWkWMs"
      }
    },
    {
      "cell_type": "code",
      "source": [
        "from keras.utils import np_utils"
      ],
      "metadata": {
        "id": "LkM9Q4xEDHMx"
      },
      "execution_count": null,
      "outputs": []
    },
    {
      "cell_type": "code",
      "source": [
        "train_yoh=np_utils.to_categorical(train_y)\n",
        "train_yoh.shape"
      ],
      "metadata": {
        "colab": {
          "base_uri": "https://localhost:8080/"
        },
        "id": "0v-mcZCNDEX1",
        "outputId": "eb5b7db3-c892-4ff7-f47f-b48e8d9fd730"
      },
      "execution_count": null,
      "outputs": [
        {
          "output_type": "execute_result",
          "data": {
            "text/plain": [
              "(60000, 10)"
            ]
          },
          "metadata": {},
          "execution_count": 31
        }
      ]
    },
    {
      "cell_type": "code",
      "source": [
        "train_x.shape"
      ],
      "metadata": {
        "colab": {
          "base_uri": "https://localhost:8080/"
        },
        "id": "mZhtSReW7mTA",
        "outputId": "c9e5be7f-01b6-4d0a-e3a8-1274518e9aa9"
      },
      "execution_count": null,
      "outputs": [
        {
          "output_type": "execute_result",
          "data": {
            "text/plain": [
              "(60000, 28, 28, 1)"
            ]
          },
          "metadata": {},
          "execution_count": 32
        }
      ]
    },
    {
      "cell_type": "markdown",
      "source": [
        "**4. 모델 훈련 & 기록**"
      ],
      "metadata": {
        "id": "54KhjWw5kcK6"
      }
    },
    {
      "cell_type": "code",
      "source": [
        "history2 = conv2.fit(train_x, train_yoh,\n",
        "                    validation_split=0.2,\n",
        "                    epochs=25,batch_size=300,verbose=2)"
      ],
      "metadata": {
        "colab": {
          "base_uri": "https://localhost:8080/"
        },
        "id": "EJvxvSA7AoEm",
        "outputId": "e288ea38-13be-4e85-f13c-0bfc54e3a202"
      },
      "execution_count": null,
      "outputs": [
        {
          "output_type": "stream",
          "name": "stdout",
          "text": [
            "Epoch 1/25\n",
            "160/160 - 71s - loss: 0.8788 - accuracy: 0.7063 - val_loss: 0.1420 - val_accuracy: 0.9605 - 71s/epoch - 446ms/step\n",
            "Epoch 2/25\n",
            "160/160 - 66s - loss: 0.2534 - accuracy: 0.9236 - val_loss: 0.0901 - val_accuracy: 0.9732 - 66s/epoch - 415ms/step\n",
            "Epoch 3/25\n",
            "160/160 - 67s - loss: 0.1824 - accuracy: 0.9458 - val_loss: 0.0695 - val_accuracy: 0.9787 - 67s/epoch - 416ms/step\n",
            "Epoch 4/25\n",
            "160/160 - 68s - loss: 0.1463 - accuracy: 0.9574 - val_loss: 0.0592 - val_accuracy: 0.9813 - 68s/epoch - 427ms/step\n",
            "Epoch 5/25\n",
            "160/160 - 66s - loss: 0.1254 - accuracy: 0.9630 - val_loss: 0.0550 - val_accuracy: 0.9838 - 66s/epoch - 415ms/step\n",
            "Epoch 6/25\n",
            "160/160 - 66s - loss: 0.1113 - accuracy: 0.9673 - val_loss: 0.0475 - val_accuracy: 0.9868 - 66s/epoch - 412ms/step\n",
            "Epoch 7/25\n",
            "160/160 - 69s - loss: 0.0983 - accuracy: 0.9705 - val_loss: 0.0433 - val_accuracy: 0.9878 - 69s/epoch - 434ms/step\n",
            "Epoch 8/25\n",
            "160/160 - 70s - loss: 0.0894 - accuracy: 0.9730 - val_loss: 0.0390 - val_accuracy: 0.9893 - 70s/epoch - 436ms/step\n",
            "Epoch 9/25\n",
            "160/160 - 68s - loss: 0.0813 - accuracy: 0.9743 - val_loss: 0.0374 - val_accuracy: 0.9898 - 68s/epoch - 426ms/step\n",
            "Epoch 10/25\n",
            "160/160 - 65s - loss: 0.0788 - accuracy: 0.9756 - val_loss: 0.0335 - val_accuracy: 0.9902 - 65s/epoch - 409ms/step\n",
            "Epoch 11/25\n",
            "160/160 - 68s - loss: 0.0715 - accuracy: 0.9791 - val_loss: 0.0428 - val_accuracy: 0.9877 - 68s/epoch - 422ms/step\n",
            "Epoch 12/25\n",
            "160/160 - 65s - loss: 0.0664 - accuracy: 0.9797 - val_loss: 0.0329 - val_accuracy: 0.9912 - 65s/epoch - 409ms/step\n",
            "Epoch 13/25\n",
            "160/160 - 66s - loss: 0.0635 - accuracy: 0.9816 - val_loss: 0.0317 - val_accuracy: 0.9919 - 66s/epoch - 411ms/step\n",
            "Epoch 14/25\n",
            "160/160 - 66s - loss: 0.0622 - accuracy: 0.9810 - val_loss: 0.0350 - val_accuracy: 0.9907 - 66s/epoch - 410ms/step\n",
            "Epoch 15/25\n",
            "160/160 - 68s - loss: 0.0593 - accuracy: 0.9823 - val_loss: 0.0313 - val_accuracy: 0.9920 - 68s/epoch - 422ms/step\n",
            "Epoch 16/25\n",
            "160/160 - 65s - loss: 0.0548 - accuracy: 0.9839 - val_loss: 0.0326 - val_accuracy: 0.9907 - 65s/epoch - 408ms/step\n",
            "Epoch 17/25\n",
            "160/160 - 66s - loss: 0.0551 - accuracy: 0.9835 - val_loss: 0.0324 - val_accuracy: 0.9913 - 66s/epoch - 409ms/step\n",
            "Epoch 18/25\n",
            "160/160 - 67s - loss: 0.0536 - accuracy: 0.9843 - val_loss: 0.0337 - val_accuracy: 0.9899 - 67s/epoch - 422ms/step\n",
            "Epoch 19/25\n",
            "160/160 - 67s - loss: 0.0520 - accuracy: 0.9847 - val_loss: 0.0355 - val_accuracy: 0.9901 - 67s/epoch - 421ms/step\n",
            "Epoch 20/25\n",
            "160/160 - 66s - loss: 0.0495 - accuracy: 0.9850 - val_loss: 0.0309 - val_accuracy: 0.9916 - 66s/epoch - 410ms/step\n",
            "Epoch 21/25\n",
            "160/160 - 65s - loss: 0.0466 - accuracy: 0.9855 - val_loss: 0.0302 - val_accuracy: 0.9923 - 65s/epoch - 409ms/step\n",
            "Epoch 22/25\n",
            "160/160 - 68s - loss: 0.0473 - accuracy: 0.9859 - val_loss: 0.0278 - val_accuracy: 0.9913 - 68s/epoch - 422ms/step\n",
            "Epoch 23/25\n",
            "160/160 - 66s - loss: 0.0452 - accuracy: 0.9858 - val_loss: 0.0286 - val_accuracy: 0.9919 - 66s/epoch - 409ms/step\n",
            "Epoch 24/25\n",
            "160/160 - 66s - loss: 0.0425 - accuracy: 0.9873 - val_loss: 0.0306 - val_accuracy: 0.9916 - 66s/epoch - 409ms/step\n",
            "Epoch 25/25\n",
            "160/160 - 68s - loss: 0.0420 - accuracy: 0.9872 - val_loss: 0.0295 - val_accuracy: 0.9917 - 68s/epoch - 422ms/step\n"
          ]
        }
      ]
    },
    {
      "cell_type": "markdown",
      "source": [
        "**5. 모델 정확도 평가**"
      ],
      "metadata": {
        "id": "IBP7_zLdkkMa"
      }
    },
    {
      "cell_type": "code",
      "source": [
        "plt.plot(history2.history['loss'])\n",
        "plt.title(\"Loss\")\n",
        "plt.show()"
      ],
      "metadata": {
        "colab": {
          "base_uri": "https://localhost:8080/",
          "height": 300
        },
        "id": "iM0khi0DklNQ",
        "outputId": "6dca2c83-cf21-4bc5-f164-c31b145af49a"
      },
      "execution_count": null,
      "outputs": [
        {
          "output_type": "execute_result",
          "data": {
            "text/plain": [
              "[<matplotlib.lines.Line2D at 0x7f978fbc96d0>]"
            ]
          },
          "metadata": {},
          "execution_count": 234
        },
        {
          "output_type": "execute_result",
          "data": {
            "text/plain": [
              "Text(0.5, 1.0, 'Loss')"
            ]
          },
          "metadata": {},
          "execution_count": 234
        },
        {
          "output_type": "display_data",
          "data": {
            "text/plain": [
              "<Figure size 432x288 with 1 Axes>"
            ],
            "image/png": "[encoded data removed]"
          },
          "metadata": {
            "needs_background": "light"
          }
        }
      ]
    },
    {
      "cell_type": "code",
      "source": [
        "plt.plot(history2.history['accuracy'])\n",
        "plt.title(\"Accuracy\")\n",
        "plt.show()"
      ],
      "metadata": {
        "colab": {
          "base_uri": "https://localhost:8080/",
          "height": 300
        },
        "id": "sfkYVz4NkxK3",
        "outputId": "7a156e85-4146-4566-cec3-f73305b73a0a"
      },
      "execution_count": null,
      "outputs": [
        {
          "output_type": "execute_result",
          "data": {
            "text/plain": [
              "[<matplotlib.lines.Line2D at 0x7f9793d45710>]"
            ]
          },
          "metadata": {},
          "execution_count": 235
        },
        {
          "output_type": "execute_result",
          "data": {
            "text/plain": [
              "Text(0.5, 1.0, 'Accuracy')"
            ]
          },
          "metadata": {},
          "execution_count": 235
        },
        {
          "output_type": "display_data",
          "data": {
            "text/plain": [
              "<Figure size 432x288 with 1 Axes>"
            ],
            "image/png": "[encoded data removed]"
          },
          "metadata": {
            "needs_background": "light"
          }
        }
      ]
    },
    {
      "cell_type": "code",
      "source": [
        "score = conv2.evaluate(test_x, y_test, verbose=0)\n",
        "print('Test loss:', score[0])\n",
        "print('Test accuracy:', score[1])"
      ],
      "metadata": {
        "colab": {
          "base_uri": "https://localhost:8080/"
        },
        "id": "3CA3qGNxmYEx",
        "outputId": "d92a7913-5baa-49aa-94df-5cbc4883f526"
      },
      "execution_count": null,
      "outputs": [
        {
          "output_type": "stream",
          "name": "stdout",
          "text": [
            "Test loss: 0.028099065646529198\n",
            "Test accuracy: 0.991599977016449\n"
          ]
        }
      ]
    },
    {
      "cell_type": "markdown",
      "source": [
        "**6. 예측 진행 & 틀린 예측 랜덤 확인**"
      ],
      "metadata": {
        "id": "rx3cZD-5kgdk"
      }
    },
    {
      "cell_type": "code",
      "source": [
        "prediction = conv2.predict(test_x)"
      ],
      "metadata": {
        "colab": {
          "base_uri": "https://localhost:8080/"
        },
        "id": "nQQevwN2AoHb",
        "outputId": "06ea3080-7e7d-45dd-9bbb-ac986f33322c"
      },
      "execution_count": null,
      "outputs": [
        {
          "output_type": "stream",
          "name": "stdout",
          "text": [
            "313/313 [==============================] - 4s 13ms/step\n"
          ]
        }
      ]
    },
    {
      "cell_type": "code",
      "source": [
        "prediction[0]"
      ],
      "metadata": {
        "colab": {
          "base_uri": "https://localhost:8080/"
        },
        "id": "MX_JbWfhFf-G",
        "outputId": "db0716a1-c93c-46c3-f87d-b5cc799a700a"
      },
      "execution_count": null,
      "outputs": [
        {
          "output_type": "execute_result",
          "data": {
            "text/plain": [
              "array([2.2395559e-16, 2.8235245e-09, 1.6463936e-10, 8.7702996e-12,\n",
              "       3.3982431e-12, 7.5830320e-15, 1.0791617e-20, 9.9999994e-01,\n",
              "       5.6547892e-13, 3.7946823e-08], dtype=float32)"
            ]
          },
          "metadata": {},
          "execution_count": 238
        }
      ]
    },
    {
      "cell_type": "code",
      "source": [
        "prediction = np.argmax(prediction,axis=-1)\n",
        "prediction.shape"
      ],
      "metadata": {
        "colab": {
          "base_uri": "https://localhost:8080/"
        },
        "id": "XoTeZTPDFg-M",
        "outputId": "661cd635-21f8-491f-b6f4-9b50ecd7bf10"
      },
      "execution_count": null,
      "outputs": [
        {
          "output_type": "execute_result",
          "data": {
            "text/plain": [
              "(10000,)"
            ]
          },
          "metadata": {},
          "execution_count": 239
        }
      ]
    },
    {
      "cell_type": "code",
      "source": [
        "number = submission.copy() \n",
        "number['label'] = prediction\n",
        "number['label']                                                                                                                                                                                                                                                                                                                                                                                                                                                                                                                                                                                                                                                                                                                                                                                                                                                                                                                                                                                                                                                                                                                                                                                                                                                                                                                                                                                                   \n",
        "number.to_csv('result_number2.csv',index=False) # 제출 파일 저장"
      ],
      "metadata": {
        "colab": {
          "base_uri": "https://localhost:8080/"
        },
        "id": "RHgzQxPLeeEs",
        "outputId": "c476c19a-d233-4c14-8826-6853e0c3399a"
      },
      "execution_count": null,
      "outputs": [
        {
          "output_type": "execute_result",
          "data": {
            "text/plain": [
              "0       7\n",
              "1       2\n",
              "2       1\n",
              "3       0\n",
              "4       4\n",
              "       ..\n",
              "9995    2\n",
              "9996    3\n",
              "9997    4\n",
              "9998    5\n",
              "9999    6\n",
              "Name: label, Length: 10000, dtype: int64"
            ]
          },
          "metadata": {},
          "execution_count": 240
        }
      ]
    },
    {
      "cell_type": "code",
      "source": [
        "import random\n",
        "\n",
        "\n",
        "test_labels = np.argmax(y_test, axis=1)\n",
        "\n",
        "wrong_result = []\n",
        "\n",
        "for n in range(0, len(test_labels)):\n",
        "    if prediction[n] != test_labels[n]:\n",
        "        wrong_result.append(n)\n",
        "\n",
        "samples = random.choices(population=wrong_result, k=16)\n",
        "\n",
        "count = 0\n",
        "nrows = ncols = 4\n",
        "\n",
        "plt.figure(figsize=(12,8))\n",
        "\n",
        "for n in samples:\n",
        "    count += 1\n",
        "    plt.subplot(nrows, ncols, count)\n",
        "    plt.imshow(test_x[n].reshape(28, 28), cmap='Greys', interpolation='nearest')\n",
        "    tmp = \"Real number:\" + str(test_labels[n]) + \", my Prediction:\" + str(prediction[n])\n",
        "    plt.title(tmp)\n",
        "\n",
        "plt.tight_layout()\n",
        "plt.show()"
      ],
      "metadata": {
        "colab": {
          "base_uri": "https://localhost:8080/",
          "height": 938
        },
        "id": "fVgW7oiGm7DR",
        "outputId": "9afc0d0e-4e84-4f8a-b282-ad7db9163563"
      },
      "execution_count": null,
      "outputs": [
        {
          "output_type": "execute_result",
          "data": {
            "text/plain": [
              "<Figure size 864x576 with 0 Axes>"
            ]
          },
          "metadata": {},
          "execution_count": 241
        },
        {
          "output_type": "execute_result",
          "data": {
            "text/plain": [
              "<matplotlib.axes._subplots.AxesSubplot at 0x7f9790095550>"
            ]
          },
          "metadata": {},
          "execution_count": 241
        },
        {
          "output_type": "execute_result",
          "data": {
            "text/plain": [
              "<matplotlib.image.AxesImage at 0x7f978d7a3510>"
            ]
          },
          "metadata": {},
          "execution_count": 241
        },
        {
          "output_type": "execute_result",
          "data": {
            "text/plain": [
              "Text(0.5, 1.0, 'Real number:5, my Prediction:3')"
            ]
          },
          "metadata": {},
          "execution_count": 241
        },
        {
          "output_type": "execute_result",
          "data": {
            "text/plain": [
              "<matplotlib.axes._subplots.AxesSubplot at 0x7f978d5cd650>"
            ]
          },
          "metadata": {},
          "execution_count": 241
        },
        {
          "output_type": "execute_result",
          "data": {
            "text/plain": [
              "<matplotlib.image.AxesImage at 0x7f9793297750>"
            ]
          },
          "metadata": {},
          "execution_count": 241
        },
        {
          "output_type": "execute_result",
          "data": {
            "text/plain": [
              "Text(0.5, 1.0, 'Real number:9, my Prediction:7')"
            ]
          },
          "metadata": {},
          "execution_count": 241
        },
        {
          "output_type": "execute_result",
          "data": {
            "text/plain": [
              "<matplotlib.axes._subplots.AxesSubplot at 0x7f979053f050>"
            ]
          },
          "metadata": {},
          "execution_count": 241
        },
        {
          "output_type": "execute_result",
          "data": {
            "text/plain": [
              "<matplotlib.image.AxesImage at 0x7f978eb5f990>"
            ]
          },
          "metadata": {},
          "execution_count": 241
        },
        {
          "output_type": "execute_result",
          "data": {
            "text/plain": [
              "Text(0.5, 1.0, 'Real number:0, my Prediction:5')"
            ]
          },
          "metadata": {},
          "execution_count": 241
        },
        {
          "output_type": "execute_result",
          "data": {
            "text/plain": [
              "<matplotlib.axes._subplots.AxesSubplot at 0x7f978eb4f450>"
            ]
          },
          "metadata": {},
          "execution_count": 241
        },
        {
          "output_type": "execute_result",
          "data": {
            "text/plain": [
              "<matplotlib.image.AxesImage at 0x7f9791aada50>"
            ]
          },
          "metadata": {},
          "execution_count": 241
        },
        {
          "output_type": "execute_result",
          "data": {
            "text/plain": [
              "Text(0.5, 1.0, 'Real number:8, my Prediction:6')"
            ]
          },
          "metadata": {},
          "execution_count": 241
        },
        {
          "output_type": "execute_result",
          "data": {
            "text/plain": [
              "<matplotlib.axes._subplots.AxesSubplot at 0x7f979348c450>"
            ]
          },
          "metadata": {},
          "execution_count": 241
        },
        {
          "output_type": "execute_result",
          "data": {
            "text/plain": [
              "<matplotlib.image.AxesImage at 0x7f9793480f50>"
            ]
          },
          "metadata": {},
          "execution_count": 241
        },
        {
          "output_type": "execute_result",
          "data": {
            "text/plain": [
              "Text(0.5, 1.0, 'Real number:5, my Prediction:6')"
            ]
          },
          "metadata": {},
          "execution_count": 241
        },
        {
          "output_type": "execute_result",
          "data": {
            "text/plain": [
              "<matplotlib.axes._subplots.AxesSubplot at 0x7f9793288dd0>"
            ]
          },
          "metadata": {},
          "execution_count": 241
        },
        {
          "output_type": "execute_result",
          "data": {
            "text/plain": [
              "<matplotlib.image.AxesImage at 0x7f97914edf90>"
            ]
          },
          "metadata": {},
          "execution_count": 241
        },
        {
          "output_type": "execute_result",
          "data": {
            "text/plain": [
              "Text(0.5, 1.0, 'Real number:9, my Prediction:8')"
            ]
          },
          "metadata": {},
          "execution_count": 241
        },
        {
          "output_type": "execute_result",
          "data": {
            "text/plain": [
              "<matplotlib.axes._subplots.AxesSubplot at 0x7f978f48e050>"
            ]
          },
          "metadata": {},
          "execution_count": 241
        },
        {
          "output_type": "execute_result",
          "data": {
            "text/plain": [
              "<matplotlib.image.AxesImage at 0x7f97914ed810>"
            ]
          },
          "metadata": {},
          "execution_count": 241
        },
        {
          "output_type": "execute_result",
          "data": {
            "text/plain": [
              "Text(0.5, 1.0, 'Real number:0, my Prediction:6')"
            ]
          },
          "metadata": {},
          "execution_count": 241
        },
        {
          "output_type": "execute_result",
          "data": {
            "text/plain": [
              "<matplotlib.axes._subplots.AxesSubplot at 0x7f9791ab5490>"
            ]
          },
          "metadata": {},
          "execution_count": 241
        },
        {
          "output_type": "execute_result",
          "data": {
            "text/plain": [
              "<matplotlib.image.AxesImage at 0x7f979232c4d0>"
            ]
          },
          "metadata": {},
          "execution_count": 241
        },
        {
          "output_type": "execute_result",
          "data": {
            "text/plain": [
              "Text(0.5, 1.0, 'Real number:4, my Prediction:8')"
            ]
          },
          "metadata": {},
          "execution_count": 241
        },
        {
          "output_type": "execute_result",
          "data": {
            "text/plain": [
              "<matplotlib.axes._subplots.AxesSubplot at 0x7f978fbe8990>"
            ]
          },
          "metadata": {},
          "execution_count": 241
        },
        {
          "output_type": "execute_result",
          "data": {
            "text/plain": [
              "<matplotlib.image.AxesImage at 0x7f9791aaba90>"
            ]
          },
          "metadata": {},
          "execution_count": 241
        },
        {
          "output_type": "execute_result",
          "data": {
            "text/plain": [
              "Text(0.5, 1.0, 'Real number:9, my Prediction:4')"
            ]
          },
          "metadata": {},
          "execution_count": 241
        },
        {
          "output_type": "execute_result",
          "data": {
            "text/plain": [
              "<matplotlib.axes._subplots.AxesSubplot at 0x7f9791a52650>"
            ]
          },
          "metadata": {},
          "execution_count": 241
        },
        {
          "output_type": "execute_result",
          "data": {
            "text/plain": [
              "<matplotlib.image.AxesImage at 0x7f9793891cd0>"
            ]
          },
          "metadata": {},
          "execution_count": 241
        },
        {
          "output_type": "execute_result",
          "data": {
            "text/plain": [
              "Text(0.5, 1.0, 'Real number:7, my Prediction:8')"
            ]
          },
          "metadata": {},
          "execution_count": 241
        },
        {
          "output_type": "execute_result",
          "data": {
            "text/plain": [
              "<matplotlib.axes._subplots.AxesSubplot at 0x7f97917674d0>"
            ]
          },
          "metadata": {},
          "execution_count": 241
        },
        {
          "output_type": "execute_result",
          "data": {
            "text/plain": [
              "<matplotlib.image.AxesImage at 0x7f9790150990>"
            ]
          },
          "metadata": {},
          "execution_count": 241
        },
        {
          "output_type": "execute_result",
          "data": {
            "text/plain": [
              "Text(0.5, 1.0, 'Real number:7, my Prediction:9')"
            ]
          },
          "metadata": {},
          "execution_count": 241
        },
        {
          "output_type": "execute_result",
          "data": {
            "text/plain": [
              "<matplotlib.axes._subplots.AxesSubplot at 0x7f978ff12190>"
            ]
          },
          "metadata": {},
          "execution_count": 241
        },
        {
          "output_type": "execute_result",
          "data": {
            "text/plain": [
              "<matplotlib.image.AxesImage at 0x7f97903c1690>"
            ]
          },
          "metadata": {},
          "execution_count": 241
        },
        {
          "output_type": "execute_result",
          "data": {
            "text/plain": [
              "Text(0.5, 1.0, 'Real number:7, my Prediction:8')"
            ]
          },
          "metadata": {},
          "execution_count": 241
        },
        {
          "output_type": "execute_result",
          "data": {
            "text/plain": [
              "<matplotlib.axes._subplots.AxesSubplot at 0x7f97902b5f50>"
            ]
          },
          "metadata": {},
          "execution_count": 241
        },
        {
          "output_type": "execute_result",
          "data": {
            "text/plain": [
              "<matplotlib.image.AxesImage at 0x7f978ffa4c50>"
            ]
          },
          "metadata": {},
          "execution_count": 241
        },
        {
          "output_type": "execute_result",
          "data": {
            "text/plain": [
              "Text(0.5, 1.0, 'Real number:8, my Prediction:9')"
            ]
          },
          "metadata": {},
          "execution_count": 241
        },
        {
          "output_type": "execute_result",
          "data": {
            "text/plain": [
              "<matplotlib.axes._subplots.AxesSubplot at 0x7f9790191bd0>"
            ]
          },
          "metadata": {},
          "execution_count": 241
        },
        {
          "output_type": "execute_result",
          "data": {
            "text/plain": [
              "<matplotlib.image.AxesImage at 0x7f978ffc1750>"
            ]
          },
          "metadata": {},
          "execution_count": 241
        },
        {
          "output_type": "execute_result",
          "data": {
            "text/plain": [
              "Text(0.5, 1.0, 'Real number:0, my Prediction:9')"
            ]
          },
          "metadata": {},
          "execution_count": 241
        },
        {
          "output_type": "execute_result",
          "data": {
            "text/plain": [
              "<matplotlib.axes._subplots.AxesSubplot at 0x7f978ffc1d10>"
            ]
          },
          "metadata": {},
          "execution_count": 241
        },
        {
          "output_type": "execute_result",
          "data": {
            "text/plain": [
              "<matplotlib.image.AxesImage at 0x7f9792326dd0>"
            ]
          },
          "metadata": {},
          "execution_count": 241
        },
        {
          "output_type": "execute_result",
          "data": {
            "text/plain": [
              "Text(0.5, 1.0, 'Real number:9, my Prediction:8')"
            ]
          },
          "metadata": {},
          "execution_count": 241
        },
        {
          "output_type": "execute_result",
          "data": {
            "text/plain": [
              "<matplotlib.axes._subplots.AxesSubplot at 0x7f97937c9f90>"
            ]
          },
          "metadata": {},
          "execution_count": 241
        },
        {
          "output_type": "execute_result",
          "data": {
            "text/plain": [
              "<matplotlib.image.AxesImage at 0x7f97937cdbd0>"
            ]
          },
          "metadata": {},
          "execution_count": 241
        },
        {
          "output_type": "execute_result",
          "data": {
            "text/plain": [
              "Text(0.5, 1.0, 'Real number:7, my Prediction:2')"
            ]
          },
          "metadata": {},
          "execution_count": 241
        },
        {
          "output_type": "display_data",
          "data": {
            "text/plain": [
              "<Figure size 864x576 with 16 Axes>"
            ],
            "image/png": "[encoded data removed]"
          },
          "metadata": {
            "needs_background": "light"
          }
        }
      ]
    },
    {
      "cell_type": "markdown",
      "source": [
        "\n",
        "*   랜덤하게 틀린 예측 확인한 결과, 꽤 애매하게 적힌 숫자 손글씨가 몇개 보임 (특히 실제는 8인데, 9로 예측한 경우)"
      ],
      "metadata": {
        "id": "VQXHuDPePddU"
      }
    },
    {
      "cell_type": "markdown",
      "source": [
        "#**Conv3 모델**\n",
        "\n",
        "\n",
        "\n",
        "*   필터 크기 (5,5): 커널 시야 확장\n",
        "\n"
      ],
      "metadata": {
        "id": "neGeNJdVhDh5"
      }
    },
    {
      "cell_type": "markdown",
      "source": [
        "**1. 모델 레이어 추가**"
      ],
      "metadata": {
        "id": "4M1iHOpmlJ7u"
      }
    },
    {
      "cell_type": "code",
      "source": [
        "conv3 = Sequential()\n",
        "conv3.add(Conv2D(32, kernel_size=(5, 5), strides=(1, 1), padding='same',activation='relu',\n",
        "                 input_shape=(28, 28, 1)))\n",
        "conv3.add(MaxPooling2D(pool_size=(2, 2), strides=(2, 2)))\n",
        "\n",
        "conv3.add(Conv2D(64, (2, 2), activation='relu', padding='same'))\n",
        "conv3.add(MaxPooling2D(pool_size=(2, 2)))\n",
        "conv3.add(Dropout(0.25))\n",
        "conv3.add(Flatten())\n",
        "\n",
        "conv3.add(Dense(1000, activation='relu'))\n",
        "conv3.add(Dropout(0.5))\n",
        "conv3.add(Dense(10, activation='softmax'))\n",
        "conv3.summary()"
      ],
      "metadata": {
        "colab": {
          "base_uri": "https://localhost:8080/"
        },
        "id": "tskx8WPcAbEq",
        "outputId": "826134db-7e97-4ca8-c813-82857905627b"
      },
      "execution_count": null,
      "outputs": [
        {
          "output_type": "stream",
          "name": "stdout",
          "text": [
            "Model: \"sequential\"\n",
            "_________________________________________________________________\n",
            " Layer (type)                Output Shape              Param #   \n",
            "=================================================================\n",
            " conv2d (Conv2D)             (None, 28, 28, 32)        832       \n",
            "                                                                 \n",
            " max_pooling2d (MaxPooling2D  (None, 14, 14, 32)       0         \n",
            " )                                                               \n",
            "                                                                 \n",
            " conv2d_1 (Conv2D)           (None, 14, 14, 64)        8256      \n",
            "                                                                 \n",
            " max_pooling2d_1 (MaxPooling  (None, 7, 7, 64)         0         \n",
            " 2D)                                                             \n",
            "                                                                 \n",
            " dropout (Dropout)           (None, 7, 7, 64)          0         \n",
            "                                                                 \n",
            " flatten (Flatten)           (None, 3136)              0         \n",
            "                                                                 \n",
            " dense (Dense)               (None, 1000)              3137000   \n",
            "                                                                 \n",
            " dropout_1 (Dropout)         (None, 1000)              0         \n",
            "                                                                 \n",
            " dense_1 (Dense)             (None, 10)                10010     \n",
            "                                                                 \n",
            "=================================================================\n",
            "Total params: 3,156,098\n",
            "Trainable params: 3,156,098\n",
            "Non-trainable params: 0\n",
            "_________________________________________________________________\n"
          ]
        }
      ]
    },
    {
      "cell_type": "code",
      "source": [
        "conv3.summary()"
      ],
      "metadata": {
        "colab": {
          "base_uri": "https://localhost:8080/"
        },
        "id": "HXw9MEUhhnge",
        "outputId": "0c203a28-5869-4982-86e2-e0be476e4560"
      },
      "execution_count": null,
      "outputs": [
        {
          "output_type": "stream",
          "name": "stdout",
          "text": [
            "Model: \"sequential_11\"\n",
            "_________________________________________________________________\n",
            " Layer (type)                Output Shape              Param #   \n",
            "=================================================================\n",
            " conv2d_22 (Conv2D)          (None, 28, 28, 32)        832       \n",
            "                                                                 \n",
            " max_pooling2d_22 (MaxPoolin  (None, 14, 14, 32)       0         \n",
            " g2D)                                                            \n",
            "                                                                 \n",
            " conv2d_23 (Conv2D)          (None, 14, 14, 64)        8256      \n",
            "                                                                 \n",
            " max_pooling2d_23 (MaxPoolin  (None, 7, 7, 64)         0         \n",
            " g2D)                                                            \n",
            "                                                                 \n",
            " dropout_22 (Dropout)        (None, 7, 7, 64)          0         \n",
            "                                                                 \n",
            " flatten_11 (Flatten)        (None, 3136)              0         \n",
            "                                                                 \n",
            " dense_22 (Dense)            (None, 1000)              3137000   \n",
            "                                                                 \n",
            " dropout_23 (Dropout)        (None, 1000)              0         \n",
            "                                                                 \n",
            " dense_23 (Dense)            (None, 10)                10010     \n",
            "                                                                 \n",
            "=================================================================\n",
            "Total params: 3,156,098\n",
            "Trainable params: 3,156,098\n",
            "Non-trainable params: 0\n",
            "_________________________________________________________________\n"
          ]
        }
      ]
    },
    {
      "cell_type": "markdown",
      "source": [
        "**2. 최적화 알고리즘과 손실함수 선택**"
      ],
      "metadata": {
        "id": "IPUXRE-6lKrq"
      }
    },
    {
      "cell_type": "code",
      "source": [
        "conv3.compile(loss='categorical_crossentropy', optimizer='adam', metrics=['accuracy'])"
      ],
      "metadata": {
        "id": "JoJVdv3bAidA"
      },
      "execution_count": null,
      "outputs": []
    },
    {
      "cell_type": "code",
      "source": [
        "from keras.utils import plot_model\n",
        "plot_model(conv3, show_shapes=True, to_file='model.png')"
      ],
      "metadata": {
        "colab": {
          "base_uri": "https://localhost:8080/",
          "height": 1000
        },
        "id": "93gekgmQsHfQ",
        "outputId": "d989a959-cc88-4b2b-d013-5d4b8620f5bc"
      },
      "execution_count": null,
      "outputs": [
        {
          "output_type": "execute_result",
          "data": {
            "image/png": "[encoded data removed]",
            "text/plain": [
              "<IPython.core.display.Image object>"
            ]
          },
          "metadata": {},
          "execution_count": 145
        }
      ]
    },
    {
      "cell_type": "markdown",
      "source": [
        "**3. 모델 훈련 & 기록**"
      ],
      "metadata": {
        "id": "QFPGDLSIlMHj"
      }
    },
    {
      "cell_type": "code",
      "source": [
        "train_x.shape"
      ],
      "metadata": {
        "colab": {
          "base_uri": "https://localhost:8080/"
        },
        "id": "6S9qFb0D8_CJ",
        "outputId": "5db8957e-3594-4491-ebff-9ab260485f70"
      },
      "execution_count": null,
      "outputs": [
        {
          "output_type": "execute_result",
          "data": {
            "text/plain": [
              "(60000, 28, 28, 1)"
            ]
          },
          "metadata": {},
          "execution_count": 72
        }
      ]
    },
    {
      "cell_type": "code",
      "source": [
        "train_yoh=np_utils.to_categorical(train_y)\n",
        "train_yoh.shape"
      ],
      "metadata": {
        "colab": {
          "base_uri": "https://localhost:8080/"
        },
        "id": "UZcAd5eh_kFc",
        "outputId": "3f2a2330-5720-4796-d89b-88bb689a305a"
      },
      "execution_count": null,
      "outputs": [
        {
          "output_type": "execute_result",
          "data": {
            "text/plain": [
              "(60000, 10)"
            ]
          },
          "metadata": {},
          "execution_count": 73
        }
      ]
    },
    {
      "cell_type": "code",
      "source": [
        "train_x.shape, train_yoh.shape\n",
        "test_x.shape, y_test.shape"
      ],
      "metadata": {
        "colab": {
          "base_uri": "https://localhost:8080/"
        },
        "id": "9pIfqcvRF_3U",
        "outputId": "be4bba56-e21a-4f97-955d-a010d7ceae9b"
      },
      "execution_count": null,
      "outputs": [
        {
          "output_type": "execute_result",
          "data": {
            "text/plain": [
              "((60000, 28, 28, 1), (60000, 10))"
            ]
          },
          "metadata": {},
          "execution_count": 76
        },
        {
          "output_type": "execute_result",
          "data": {
            "text/plain": [
              "((10000, 28, 28, 1), (10000, 10))"
            ]
          },
          "metadata": {},
          "execution_count": 76
        }
      ]
    },
    {
      "cell_type": "code",
      "source": [
        "history3 = conv3.fit(train_x, train_yoh,epochs=25,\n",
        "                 batch_size=300,verbose=1, validation_data=(test_x, y_test))"
      ],
      "metadata": {
        "colab": {
          "base_uri": "https://localhost:8080/"
        },
        "id": "ORgcN9esB75h",
        "outputId": "5937521d-13e0-4486-ab15-0f6c6df23bce"
      },
      "execution_count": null,
      "outputs": [
        {
          "output_type": "stream",
          "name": "stdout",
          "text": [
            "Epoch 1/25\n",
            "200/200 [==============================] - 85s 423ms/step - loss: 0.0662 - accuracy: 0.9796 - val_loss: 0.0376 - val_accuracy: 0.9879\n",
            "Epoch 2/25\n",
            "200/200 [==============================] - 84s 421ms/step - loss: 0.0485 - accuracy: 0.9847 - val_loss: 0.0318 - val_accuracy: 0.9888\n",
            "Epoch 3/25\n",
            "200/200 [==============================] - 83s 414ms/step - loss: 0.0394 - accuracy: 0.9878 - val_loss: 0.0258 - val_accuracy: 0.9914\n",
            "Epoch 4/25\n",
            "200/200 [==============================] - 81s 406ms/step - loss: 0.0332 - accuracy: 0.9894 - val_loss: 0.0251 - val_accuracy: 0.9916\n",
            "Epoch 5/25\n",
            "200/200 [==============================] - 83s 413ms/step - loss: 0.0289 - accuracy: 0.9911 - val_loss: 0.0233 - val_accuracy: 0.9922\n",
            "Epoch 6/25\n",
            "200/200 [==============================] - 83s 414ms/step - loss: 0.0241 - accuracy: 0.9919 - val_loss: 0.0218 - val_accuracy: 0.9925\n",
            "Epoch 7/25\n",
            "200/200 [==============================] - 81s 404ms/step - loss: 0.0224 - accuracy: 0.9925 - val_loss: 0.0284 - val_accuracy: 0.9909\n",
            "Epoch 8/25\n",
            "200/200 [==============================] - 83s 413ms/step - loss: 0.0199 - accuracy: 0.9934 - val_loss: 0.0265 - val_accuracy: 0.9919\n",
            "Epoch 9/25\n",
            "200/200 [==============================] - 83s 416ms/step - loss: 0.0189 - accuracy: 0.9938 - val_loss: 0.0207 - val_accuracy: 0.9931\n",
            "Epoch 10/25\n",
            "200/200 [==============================] - 84s 419ms/step - loss: 0.0175 - accuracy: 0.9944 - val_loss: 0.0214 - val_accuracy: 0.9924\n",
            "Epoch 11/25\n",
            "200/200 [==============================] - 82s 411ms/step - loss: 0.0155 - accuracy: 0.9950 - val_loss: 0.0226 - val_accuracy: 0.9935\n",
            "Epoch 12/25\n",
            "200/200 [==============================] - 80s 401ms/step - loss: 0.0145 - accuracy: 0.9953 - val_loss: 0.0225 - val_accuracy: 0.9930\n",
            "Epoch 13/25\n",
            "200/200 [==============================] - 83s 414ms/step - loss: 0.0133 - accuracy: 0.9959 - val_loss: 0.0215 - val_accuracy: 0.9933\n",
            "Epoch 14/25\n",
            "200/200 [==============================] - 82s 412ms/step - loss: 0.0117 - accuracy: 0.9961 - val_loss: 0.0216 - val_accuracy: 0.9940\n",
            "Epoch 15/25\n",
            "200/200 [==============================] - 81s 403ms/step - loss: 0.0122 - accuracy: 0.9960 - val_loss: 0.0232 - val_accuracy: 0.9926\n",
            "Epoch 16/25\n",
            "200/200 [==============================] - 82s 408ms/step - loss: 0.0107 - accuracy: 0.9964 - val_loss: 0.0249 - val_accuracy: 0.9931\n",
            "Epoch 17/25\n",
            "200/200 [==============================] - 81s 407ms/step - loss: 0.0102 - accuracy: 0.9967 - val_loss: 0.0228 - val_accuracy: 0.9935\n",
            "Epoch 18/25\n",
            "200/200 [==============================] - 80s 398ms/step - loss: 0.0106 - accuracy: 0.9962 - val_loss: 0.0227 - val_accuracy: 0.9934\n",
            "Epoch 19/25\n",
            "200/200 [==============================] - 84s 418ms/step - loss: 0.0097 - accuracy: 0.9967 - val_loss: 0.0222 - val_accuracy: 0.9934\n",
            "Epoch 20/25\n",
            "200/200 [==============================] - 80s 398ms/step - loss: 0.0087 - accuracy: 0.9968 - val_loss: 0.0223 - val_accuracy: 0.9938\n",
            "Epoch 21/25\n",
            "200/200 [==============================] - 80s 398ms/step - loss: 0.0076 - accuracy: 0.9974 - val_loss: 0.0224 - val_accuracy: 0.9937\n",
            "Epoch 22/25\n",
            "200/200 [==============================] - 83s 417ms/step - loss: 0.0089 - accuracy: 0.9969 - val_loss: 0.0249 - val_accuracy: 0.9936\n",
            "Epoch 23/25\n",
            "200/200 [==============================] - 79s 396ms/step - loss: 0.0076 - accuracy: 0.9976 - val_loss: 0.0237 - val_accuracy: 0.9938\n",
            "Epoch 24/25\n",
            "200/200 [==============================] - 79s 397ms/step - loss: 0.0069 - accuracy: 0.9977 - val_loss: 0.0210 - val_accuracy: 0.9940\n",
            "Epoch 25/25\n",
            "200/200 [==============================] - 84s 419ms/step - loss: 0.0062 - accuracy: 0.9978 - val_loss: 0.0248 - val_accuracy: 0.9940\n"
          ]
        }
      ]
    },
    {
      "cell_type": "markdown",
      "source": [
        "**5. 모델 정확도 평가**"
      ],
      "metadata": {
        "id": "AB-rzVkAlO1_"
      }
    },
    {
      "cell_type": "code",
      "source": [
        "plt.plot(history3.history['loss'])\n",
        "plt.title(\"Loss\")\n",
        "plt.show()"
      ],
      "metadata": {
        "colab": {
          "base_uri": "https://localhost:8080/",
          "height": 300
        },
        "id": "EEEICMt8lQVG",
        "outputId": "ed2e8dca-c72a-4557-e8a1-8a0e54d346a4"
      },
      "execution_count": null,
      "outputs": [
        {
          "output_type": "execute_result",
          "data": {
            "text/plain": [
              "[<matplotlib.lines.Line2D at 0x7f97598ec610>]"
            ]
          },
          "metadata": {},
          "execution_count": 291
        },
        {
          "output_type": "execute_result",
          "data": {
            "text/plain": [
              "Text(0.5, 1.0, 'Loss')"
            ]
          },
          "metadata": {},
          "execution_count": 291
        },
        {
          "output_type": "display_data",
          "data": {
            "text/plain": [
              "<Figure size 432x288 with 1 Axes>"
            ],
            "image/png": "[encoded data removed]"
          },
          "metadata": {
            "needs_background": "light"
          }
        }
      ]
    },
    {
      "cell_type": "code",
      "source": [
        "plt.plot(history3.history['accuracy'])\n",
        "plt.title(\"Accuracy\")\n",
        "plt.show()"
      ],
      "metadata": {
        "colab": {
          "base_uri": "https://localhost:8080/",
          "height": 300
        },
        "id": "bLN9v_V8lTqj",
        "outputId": "c9a4c7a4-e447-49e0-df1c-8f4f3cdb0702"
      },
      "execution_count": null,
      "outputs": [
        {
          "output_type": "execute_result",
          "data": {
            "text/plain": [
              "[<matplotlib.lines.Line2D at 0x7f975984d550>]"
            ]
          },
          "metadata": {},
          "execution_count": 292
        },
        {
          "output_type": "execute_result",
          "data": {
            "text/plain": [
              "Text(0.5, 1.0, 'Accuracy')"
            ]
          },
          "metadata": {},
          "execution_count": 292
        },
        {
          "output_type": "display_data",
          "data": {
            "text/plain": [
              "<Figure size 432x288 with 1 Axes>"
            ],
            "image/png": "[encoded data removed]"
          },
          "metadata": {
            "needs_background": "light"
          }
        }
      ]
    },
    {
      "cell_type": "code",
      "source": [
        "score = conv3.evaluate(test_x, y_test, verbose=0)\n",
        "print('Test loss:', score[0])\n",
        "print('Test accuracy:', score[1])"
      ],
      "metadata": {
        "colab": {
          "base_uri": "https://localhost:8080/"
        },
        "id": "imS2CzQrmk-n",
        "outputId": "da8b65d7-a5ea-4652-8941-b1835769d84b"
      },
      "execution_count": null,
      "outputs": [
        {
          "output_type": "stream",
          "name": "stdout",
          "text": [
            "Test loss: 0.02482585422694683\n",
            "Test accuracy: 0.9940000176429749\n"
          ]
        }
      ]
    },
    {
      "cell_type": "markdown",
      "source": [
        "**5. 예측 확인**"
      ],
      "metadata": {
        "id": "c1C3DDFulRX-"
      }
    },
    {
      "cell_type": "code",
      "source": [
        "prediction = conv3.predict(test_x)\n",
        "prediction[0]"
      ],
      "metadata": {
        "colab": {
          "base_uri": "https://localhost:8080/"
        },
        "id": "Cl4NL31FjB7b",
        "outputId": "e16749d5-ca9a-45a6-c050-2972bb9027d5"
      },
      "execution_count": null,
      "outputs": [
        {
          "output_type": "stream",
          "name": "stdout",
          "text": [
            "313/313 [==============================] - 5s 16ms/step\n"
          ]
        },
        {
          "output_type": "execute_result",
          "data": {
            "text/plain": [
              "array([5.3416557e-14, 5.2494887e-11, 7.0396434e-14, 6.9271977e-11,\n",
              "       8.4575437e-12, 1.0018031e-13, 9.4822660e-16, 9.9999994e-01,\n",
              "       2.0597659e-13, 3.7691500e-10], dtype=float32)"
            ]
          },
          "metadata": {},
          "execution_count": 294
        }
      ]
    },
    {
      "cell_type": "code",
      "source": [
        "prediction = np.argmax(prediction,axis=-1)\n",
        "prediction.shape"
      ],
      "metadata": {
        "colab": {
          "base_uri": "https://localhost:8080/"
        },
        "id": "QSEF2-BljB9s",
        "outputId": "aa00a750-286d-4583-a695-7f705c5a7850"
      },
      "execution_count": null,
      "outputs": [
        {
          "output_type": "execute_result",
          "data": {
            "text/plain": [
              "(10000,)"
            ]
          },
          "metadata": {},
          "execution_count": 295
        }
      ]
    },
    {
      "cell_type": "code",
      "source": [
        "number = submission.copy() \n",
        "number['label'] = prediction\n",
        "number['label']   \n",
        "number.to_csv('result_number3.csv',index=False) # 제출 파일 저장"
      ],
      "metadata": {
        "colab": {
          "base_uri": "https://localhost:8080/"
        },
        "id": "VwjuxoKHjCAB",
        "outputId": "5db14e22-efcc-48c2-81ba-a1adaf1fde5e"
      },
      "execution_count": null,
      "outputs": [
        {
          "output_type": "execute_result",
          "data": {
            "text/plain": [
              "0       7\n",
              "1       2\n",
              "2       1\n",
              "3       0\n",
              "4       4\n",
              "       ..\n",
              "9995    2\n",
              "9996    3\n",
              "9997    4\n",
              "9998    5\n",
              "9999    6\n",
              "Name: label, Length: 10000, dtype: int64"
            ]
          },
          "metadata": {},
          "execution_count": 296
        }
      ]
    },
    {
      "cell_type": "code",
      "source": [
        "import random\n",
        "\n",
        "\n",
        "test_labels = np.argmax(y_test, axis=1)\n",
        "\n",
        "wrong_result = []\n",
        "\n",
        "for n in range(0, len(test_labels)):\n",
        "    if prediction[n] != test_labels[n]:\n",
        "        wrong_result.append(n)\n",
        "\n",
        "samples = random.choices(population=wrong_result, k=16)\n",
        "\n",
        "count = 0\n",
        "nrows = ncols = 4\n",
        "\n",
        "plt.figure(figsize=(12,8))\n",
        "\n",
        "for n in samples:\n",
        "    count += 1\n",
        "    plt.subplot(nrows, ncols, count)\n",
        "    plt.imshow(test_x[n].reshape(28, 28), cmap='Greys', interpolation='nearest')\n",
        "    tmp = \"Real number:\" + str(test_labels[n]) + \", my Prediction:\" + str(prediction[n])\n",
        "    plt.title(tmp)\n",
        "\n",
        "plt.tight_layout()\n",
        "plt.show()"
      ],
      "metadata": {
        "colab": {
          "base_uri": "https://localhost:8080/",
          "height": 938
        },
        "id": "LBQdH9-Cn1iv",
        "outputId": "1b0f60e6-ed46-4c4e-c3d8-3adb55b5514b"
      },
      "execution_count": null,
      "outputs": [
        {
          "output_type": "execute_result",
          "data": {
            "text/plain": [
              "<Figure size 864x576 with 0 Axes>"
            ]
          },
          "metadata": {},
          "execution_count": 297
        },
        {
          "output_type": "execute_result",
          "data": {
            "text/plain": [
              "<matplotlib.axes._subplots.AxesSubplot at 0x7f97597aff90>"
            ]
          },
          "metadata": {},
          "execution_count": 297
        },
        {
          "output_type": "execute_result",
          "data": {
            "text/plain": [
              "<matplotlib.image.AxesImage at 0x7f9759787810>"
            ]
          },
          "metadata": {},
          "execution_count": 297
        },
        {
          "output_type": "execute_result",
          "data": {
            "text/plain": [
              "Text(0.5, 1.0, 'Real number:7, my Prediction:1')"
            ]
          },
          "metadata": {},
          "execution_count": 297
        },
        {
          "output_type": "execute_result",
          "data": {
            "text/plain": [
              "<matplotlib.axes._subplots.AxesSubplot at 0x7f9759787c50>"
            ]
          },
          "metadata": {},
          "execution_count": 297
        },
        {
          "output_type": "execute_result",
          "data": {
            "text/plain": [
              "<matplotlib.image.AxesImage at 0x7f97597701d0>"
            ]
          },
          "metadata": {},
          "execution_count": 297
        },
        {
          "output_type": "execute_result",
          "data": {
            "text/plain": [
              "Text(0.5, 1.0, 'Real number:7, my Prediction:2')"
            ]
          },
          "metadata": {},
          "execution_count": 297
        },
        {
          "output_type": "execute_result",
          "data": {
            "text/plain": [
              "<matplotlib.axes._subplots.AxesSubplot at 0x7f97597522d0>"
            ]
          },
          "metadata": {},
          "execution_count": 297
        },
        {
          "output_type": "execute_result",
          "data": {
            "text/plain": [
              "<matplotlib.image.AxesImage at 0x7f9759787d50>"
            ]
          },
          "metadata": {},
          "execution_count": 297
        },
        {
          "output_type": "execute_result",
          "data": {
            "text/plain": [
              "Text(0.5, 1.0, 'Real number:2, my Prediction:7')"
            ]
          },
          "metadata": {},
          "execution_count": 297
        },
        {
          "output_type": "execute_result",
          "data": {
            "text/plain": [
              "<matplotlib.axes._subplots.AxesSubplot at 0x7f97597d7690>"
            ]
          },
          "metadata": {},
          "execution_count": 297
        },
        {
          "output_type": "execute_result",
          "data": {
            "text/plain": [
              "<matplotlib.image.AxesImage at 0x7f979328ef90>"
            ]
          },
          "metadata": {},
          "execution_count": 297
        },
        {
          "output_type": "execute_result",
          "data": {
            "text/plain": [
              "Text(0.5, 1.0, 'Real number:0, my Prediction:9')"
            ]
          },
          "metadata": {},
          "execution_count": 297
        },
        {
          "output_type": "execute_result",
          "data": {
            "text/plain": [
              "<matplotlib.axes._subplots.AxesSubplot at 0x7f979328e250>"
            ]
          },
          "metadata": {},
          "execution_count": 297
        },
        {
          "output_type": "execute_result",
          "data": {
            "text/plain": [
              "<matplotlib.image.AxesImage at 0x7f9785ea0e90>"
            ]
          },
          "metadata": {},
          "execution_count": 297
        },
        {
          "output_type": "execute_result",
          "data": {
            "text/plain": [
              "Text(0.5, 1.0, 'Real number:8, my Prediction:9')"
            ]
          },
          "metadata": {},
          "execution_count": 297
        },
        {
          "output_type": "execute_result",
          "data": {
            "text/plain": [
              "<matplotlib.axes._subplots.AxesSubplot at 0x7f9759995910>"
            ]
          },
          "metadata": {},
          "execution_count": 297
        },
        {
          "output_type": "execute_result",
          "data": {
            "text/plain": [
              "<matplotlib.image.AxesImage at 0x7f9785ea0950>"
            ]
          },
          "metadata": {},
          "execution_count": 297
        },
        {
          "output_type": "execute_result",
          "data": {
            "text/plain": [
              "Text(0.5, 1.0, 'Real number:7, my Prediction:1')"
            ]
          },
          "metadata": {},
          "execution_count": 297
        },
        {
          "output_type": "execute_result",
          "data": {
            "text/plain": [
              "<matplotlib.axes._subplots.AxesSubplot at 0x7f9785e29210>"
            ]
          },
          "metadata": {},
          "execution_count": 297
        },
        {
          "output_type": "execute_result",
          "data": {
            "text/plain": [
              "<matplotlib.image.AxesImage at 0x7f978eaeed10>"
            ]
          },
          "metadata": {},
          "execution_count": 297
        },
        {
          "output_type": "execute_result",
          "data": {
            "text/plain": [
              "Text(0.5, 1.0, 'Real number:4, my Prediction:8')"
            ]
          },
          "metadata": {},
          "execution_count": 297
        },
        {
          "output_type": "execute_result",
          "data": {
            "text/plain": [
              "<matplotlib.axes._subplots.AxesSubplot at 0x7f978e640ed0>"
            ]
          },
          "metadata": {},
          "execution_count": 297
        },
        {
          "output_type": "execute_result",
          "data": {
            "text/plain": [
              "<matplotlib.image.AxesImage at 0x7f978e9056d0>"
            ]
          },
          "metadata": {},
          "execution_count": 297
        },
        {
          "output_type": "execute_result",
          "data": {
            "text/plain": [
              "Text(0.5, 1.0, 'Real number:7, my Prediction:2')"
            ]
          },
          "metadata": {},
          "execution_count": 297
        },
        {
          "output_type": "execute_result",
          "data": {
            "text/plain": [
              "<matplotlib.axes._subplots.AxesSubplot at 0x7f978eaeec50>"
            ]
          },
          "metadata": {},
          "execution_count": 297
        },
        {
          "output_type": "execute_result",
          "data": {
            "text/plain": [
              "<matplotlib.image.AxesImage at 0x7f978eb10fd0>"
            ]
          },
          "metadata": {},
          "execution_count": 297
        },
        {
          "output_type": "execute_result",
          "data": {
            "text/plain": [
              "Text(0.5, 1.0, 'Real number:7, my Prediction:2')"
            ]
          },
          "metadata": {},
          "execution_count": 297
        },
        {
          "output_type": "execute_result",
          "data": {
            "text/plain": [
              "<matplotlib.axes._subplots.AxesSubplot at 0x7f978e8ec150>"
            ]
          },
          "metadata": {},
          "execution_count": 297
        },
        {
          "output_type": "execute_result",
          "data": {
            "text/plain": [
              "<matplotlib.image.AxesImage at 0x7f9790145f50>"
            ]
          },
          "metadata": {},
          "execution_count": 297
        },
        {
          "output_type": "execute_result",
          "data": {
            "text/plain": [
              "Text(0.5, 1.0, 'Real number:9, my Prediction:7')"
            ]
          },
          "metadata": {},
          "execution_count": 297
        },
        {
          "output_type": "execute_result",
          "data": {
            "text/plain": [
              "<matplotlib.axes._subplots.AxesSubplot at 0x7f978eb10950>"
            ]
          },
          "metadata": {},
          "execution_count": 297
        },
        {
          "output_type": "execute_result",
          "data": {
            "text/plain": [
              "<matplotlib.image.AxesImage at 0x7f978f578510>"
            ]
          },
          "metadata": {},
          "execution_count": 297
        },
        {
          "output_type": "execute_result",
          "data": {
            "text/plain": [
              "Text(0.5, 1.0, 'Real number:4, my Prediction:9')"
            ]
          },
          "metadata": {},
          "execution_count": 297
        },
        {
          "output_type": "execute_result",
          "data": {
            "text/plain": [
              "<matplotlib.axes._subplots.AxesSubplot at 0x7f978f5c86d0>"
            ]
          },
          "metadata": {},
          "execution_count": 297
        },
        {
          "output_type": "execute_result",
          "data": {
            "text/plain": [
              "<matplotlib.image.AxesImage at 0x7f978f5b3510>"
            ]
          },
          "metadata": {},
          "execution_count": 297
        },
        {
          "output_type": "execute_result",
          "data": {
            "text/plain": [
              "Text(0.5, 1.0, 'Real number:8, my Prediction:5')"
            ]
          },
          "metadata": {},
          "execution_count": 297
        },
        {
          "output_type": "execute_result",
          "data": {
            "text/plain": [
              "<matplotlib.axes._subplots.AxesSubplot at 0x7f978f578310>"
            ]
          },
          "metadata": {},
          "execution_count": 297
        },
        {
          "output_type": "execute_result",
          "data": {
            "text/plain": [
              "<matplotlib.image.AxesImage at 0x7f978f5784d0>"
            ]
          },
          "metadata": {},
          "execution_count": 297
        },
        {
          "output_type": "execute_result",
          "data": {
            "text/plain": [
              "Text(0.5, 1.0, 'Real number:6, my Prediction:1')"
            ]
          },
          "metadata": {},
          "execution_count": 297
        },
        {
          "output_type": "execute_result",
          "data": {
            "text/plain": [
              "<matplotlib.axes._subplots.AxesSubplot at 0x7f978fadaad0>"
            ]
          },
          "metadata": {},
          "execution_count": 297
        },
        {
          "output_type": "execute_result",
          "data": {
            "text/plain": [
              "<matplotlib.image.AxesImage at 0x7f978fa25b50>"
            ]
          },
          "metadata": {},
          "execution_count": 297
        },
        {
          "output_type": "execute_result",
          "data": {
            "text/plain": [
              "Text(0.5, 1.0, 'Real number:6, my Prediction:1')"
            ]
          },
          "metadata": {},
          "execution_count": 297
        },
        {
          "output_type": "execute_result",
          "data": {
            "text/plain": [
              "<matplotlib.axes._subplots.AxesSubplot at 0x7f978f689550>"
            ]
          },
          "metadata": {},
          "execution_count": 297
        },
        {
          "output_type": "execute_result",
          "data": {
            "text/plain": [
              "<matplotlib.image.AxesImage at 0x7f978faa9e10>"
            ]
          },
          "metadata": {},
          "execution_count": 297
        },
        {
          "output_type": "execute_result",
          "data": {
            "text/plain": [
              "Text(0.5, 1.0, 'Real number:6, my Prediction:1')"
            ]
          },
          "metadata": {},
          "execution_count": 297
        },
        {
          "output_type": "execute_result",
          "data": {
            "text/plain": [
              "<matplotlib.axes._subplots.AxesSubplot at 0x7f978faa9790>"
            ]
          },
          "metadata": {},
          "execution_count": 297
        },
        {
          "output_type": "execute_result",
          "data": {
            "text/plain": [
              "<matplotlib.image.AxesImage at 0x7f978f9b5190>"
            ]
          },
          "metadata": {},
          "execution_count": 297
        },
        {
          "output_type": "execute_result",
          "data": {
            "text/plain": [
              "Text(0.5, 1.0, 'Real number:2, my Prediction:7')"
            ]
          },
          "metadata": {},
          "execution_count": 297
        },
        {
          "output_type": "display_data",
          "data": {
            "text/plain": [
              "<Figure size 864x576 with 16 Axes>"
            ],
            "image/png": "[encoded data removed]"
          },
          "metadata": {
            "needs_background": "light"
          }
        }
      ]
    },
    {
      "cell_type": "markdown",
      "source": [
        "\n",
        "\n",
        "*   랜덤하게 틀린 예측 확인한 결과, 꽤 애매하게 적힌 숫자 손글씨가 몇개 보임 (특히 실제는 8인데, 9로 예측한 경우)\n",
        "\n"
      ],
      "metadata": {
        "id": "PEf6ILDlo0cl"
      }
    },
    {
      "cell_type": "markdown",
      "source": [
        "# **4. Dacon 참여 결과/총 정리**"
      ],
      "metadata": {
        "id": "HvWwb1jblDcI"
      }
    },
    {
      "cell_type": "markdown",
      "source": [
        "![image.png](data:image/png;base64,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)"
      ],
      "metadata": {
        "id": "ICF4DJLpQJA2"
      }
    },
    {
      "cell_type": "markdown",
      "source": [
        "![image.png](data:image/png;base64,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)"
      ],
      "metadata": {
        "id": "71mzhuGjQHNz"
      }
    },
    {
      "cell_type": "markdown",
      "source": [
        "\n",
        "\n",
        "*   conv1 모델 점수 0.9843\n",
        "*   conv2 모델 점수 0.9939\n",
        "*   conv3 모델 점수 0.994\n",
        "\n",
        "다중 분류 코드로 모델 예측하는 것보다 합성곱으로 모델 예측한 경우 더 높은 정확도를 낼 수 있었으며, 합성곱과 풀링층을 한번만 쌓았을 때보다 반복하여 구성하고 커널 사이즈를 5,5 로 설정하였을 때 가장 높은 정확도를 보임\n"
      ],
      "metadata": {
        "id": "e0HmrAoIpXLO"
      }
    }
  ]
}